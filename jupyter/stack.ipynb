{
 "cells": [
  {
   "cell_type": "code",
   "id": "initial_id",
   "metadata": {
    "collapsed": true,
    "ExecuteTime": {
     "end_time": "2024-12-26T19:03:48.638157Z",
     "start_time": "2024-12-26T19:03:48.611216Z"
    }
   },
   "source": [
    "import math\n",
    "import latexify\n",
    "from typing import List"
   ],
   "outputs": [],
   "execution_count": 2
  },
  {
   "metadata": {
    "ExecuteTime": {
     "end_time": "2024-12-26T19:02:53.290914Z",
     "start_time": "2024-12-26T19:02:53.286256Z"
    }
   },
   "cell_type": "code",
   "source": [
    "class Stack:\n",
    "    def __init__(self):\n",
    "        self.list_stack=[]\n",
    "\n",
    "    def __str__(self):\n",
    "        values=[str(x) for x in reversed(self.list_stack)]\n",
    "        return '\\n'.join(values)\n",
    "\n",
    "\n",
    "    def push(self,value):\n",
    "        self.list_stack.append(value)\n",
    "        print(f\"Element {value} has been successfully inserted\")\n",
    "\n",
    "\n",
    "    def is_empty(self):\n",
    "        if self.list_stack==[]:\n",
    "            print(\"The stack is empty\")\n",
    "            return True\n",
    "\n",
    "        else:\n",
    "            print(\"Stack contains some elements.\")\n",
    "            return False\n",
    "\n",
    "    def pop(self):\n",
    "        if self.is_empty():\n",
    "            print(\"Stack is no empty\")\n",
    "        else:\n",
    "            removed_element=self.list_stack.pop()\n",
    "            print(f\"Element {removed_element} has been removed from the stack.\")\n",
    "\n",
    "    def peak(self):\n",
    "        if self.is_empty():\n",
    "            return None\n",
    "        else:\n",
    "            return self.list_stack[-1]"
   ],
   "id": "49b305351981ef84",
   "outputs": [],
   "execution_count": 1
  },
  {
   "metadata": {
    "ExecuteTime": {
     "end_time": "2024-12-26T19:04:08.218787Z",
     "start_time": "2024-12-26T19:04:08.214177Z"
    }
   },
   "cell_type": "code",
   "source": [
    "@latexify.algorithmic\n",
    "def __str__(self):\n",
    "        values=[str(x) for x in reversed(self.list_stack)]\n",
    "        return '\\n'.join(values)"
   ],
   "id": "104fe8bf24d1e03f",
   "outputs": [],
   "execution_count": 3
  },
  {
   "metadata": {
    "ExecuteTime": {
     "end_time": "2024-12-26T19:04:20.335382Z",
     "start_time": "2024-12-26T19:04:20.330359Z"
    }
   },
   "cell_type": "code",
   "source": "__str__",
   "id": "339dc36f867f1da7",
   "outputs": [
    {
     "data": {
      "text/plain": [
       "<latexify.ipython_wrappers.LatexifiedAlgorithm at 0x10846f8d0>"
      ],
      "text/latex": "$ \\begin{array}{l} \\mathbf{function} \\ \\mathrm{\\_\\_str\\_\\_}(\\mathrm{self}) \\\\ \\hspace{1em} \\mathrm{values} \\gets \\mathopen{}\\left[ \\mathrm{str} \\mathopen{}\\left( x \\mathclose{}\\right) \\mid x \\in \\mathrm{reversed} \\mathopen{}\\left( \\mathrm{self}.\\mathrm{list\\_stack} \\mathclose{}\\right) \\mathclose{}\\right] \\\\ \\hspace{1em} \\mathbf{return} \\ \\textrm{\"\n\"}.\\mathrm{join} \\mathopen{}\\left( \\mathrm{values} \\mathclose{}\\right) \\\\ \\mathbf{end \\ function} \\end{array} $"
     },
     "execution_count": 4,
     "metadata": {},
     "output_type": "execute_result"
    }
   ],
   "execution_count": 4
  },
  {
   "metadata": {
    "ExecuteTime": {
     "end_time": "2024-12-26T19:06:14.306563Z",
     "start_time": "2024-12-26T19:06:14.303776Z"
    }
   },
   "cell_type": "code",
   "source": [
    "@latexify.algorithmic\n",
    "def pop(self):\n",
    "        if self.is_empty():\n",
    "            print(\"Stack is no empty\")\n",
    "        else:\n",
    "            removed_element=self.list_stack.pop()\n",
    "            print(\"Element from top has been removed from the stack.\")"
   ],
   "id": "4a97fc02479417e0",
   "outputs": [],
   "execution_count": 11
  },
  {
   "metadata": {
    "ExecuteTime": {
     "end_time": "2024-12-26T19:06:14.828491Z",
     "start_time": "2024-12-26T19:06:14.825893Z"
    }
   },
   "cell_type": "code",
   "source": "pop",
   "id": "c3abf5485c5dd448",
   "outputs": [
    {
     "data": {
      "text/plain": [
       "<latexify.ipython_wrappers.LatexifiedAlgorithm at 0x108460990>"
      ],
      "text/latex": "$ \\begin{array}{l} \\mathbf{function} \\ \\mathrm{pop}(\\mathrm{self}) \\\\ \\hspace{1em} \\mathbf{if} \\ \\mathrm{self}.\\mathrm{is\\_empty} \\mathopen{}\\left( \\mathclose{}\\right) \\\\ \\hspace{2em} \\mathrm{print} \\mathopen{}\\left( \\textrm{\"Stack is no empty\"} \\mathclose{}\\right) \\\\ \\hspace{1em} \\mathbf{else} \\\\ \\hspace{2em} \\mathrm{removed\\_element} \\gets \\mathrm{self}.\\mathrm{list\\_stack}.\\mathrm{pop} \\mathopen{}\\left( \\mathclose{}\\right) \\\\ \\hspace{2em} \\mathrm{print} \\mathopen{}\\left( \\textrm{\"Element from top has been removed from the stack.\"} \\mathclose{}\\right) \\\\ \\hspace{1em} \\mathbf{end \\ if} \\\\ \\mathbf{end \\ function} \\end{array} $"
     },
     "execution_count": 12,
     "metadata": {},
     "output_type": "execute_result"
    }
   ],
   "execution_count": 12
  },
  {
   "metadata": {},
   "cell_type": "code",
   "outputs": [],
   "execution_count": null,
   "source": "",
   "id": "1890663a5f77eade"
  }
 ],
 "metadata": {
  "kernelspec": {
   "display_name": "Python 3",
   "language": "python",
   "name": "python3"
  },
  "language_info": {
   "codemirror_mode": {
    "name": "ipython",
    "version": 2
   },
   "file_extension": ".py",
   "mimetype": "text/x-python",
   "name": "python",
   "nbconvert_exporter": "python",
   "pygments_lexer": "ipython2",
   "version": "2.7.6"
  }
 },
 "nbformat": 4,
 "nbformat_minor": 5
}
