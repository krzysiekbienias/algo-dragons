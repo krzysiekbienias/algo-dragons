{
 "cells": [
  {
   "cell_type": "code",
   "execution_count": 1,
   "id": "50ec76da-b5b5-4120-848d-2e6bedc27939",
   "metadata": {},
   "outputs": [],
   "source": [
    "def binary_search(array, target):\n",
    "    l, r = 0, len(array)\n",
    "    while r - l > 1:\n",
    "        mid = (l + r) // 2\n",
    "        if array[mid] < target:\n",
    "            l = mid\n",
    "        else:\n",
    "            r = mid\n",
    "    return array[l] == target\n",
    "\n",
    "\n",
    "def binary_search_index(array, target):\n",
    "    l, r = 0, len(array)\n",
    "    while r - l > 1:\n",
    "        mid = (l + r) // 2\n",
    "        if array[mid] > target:\n",
    "            r = mid\n",
    "        else:\n",
    "            l = mid\n",
    "    return l if array[l] == target else -1"
   ]
  },
  {
   "cell_type": "code",
   "execution_count": null,
   "id": "94017747-e625-4621-88cd-19912acc106f",
   "metadata": {},
   "outputs": [],
   "source": []
  },
  {
   "cell_type": "code",
   "execution_count": 7,
   "id": "b69ca5db-ab70-466c-8f92-794e96eab535",
   "metadata": {},
   "outputs": [],
   "source": [
    "def search_in_sorted_matrix(matrix, target):\n",
    "    \"\"\"\n",
    "    Searches for the target element in a 2D matrix where each row and column is sorted in ascending order.\n",
    "\n",
    "    This function uses an efficient algorithm that starts from the top-right corner of the matrix\n",
    "    and eliminates either a row or a column in each step based on the comparison with the target.\n",
    "    This approach ensures a time complexity of O(m + n), where m is the number of rows and n is the\n",
    "    number of columns.\n",
    "\n",
    "    Args:\n",
    "        matrix (List[List[int]]): A 2D list of integers where each row and each column is sorted\n",
    "                                  in ascending order. The matrix must contain distinct elements.\n",
    "        target (int): The integer value to search for in the matrix.\n",
    "\n",
    "    Returns:\n",
    "        List[int]: A list containing the indices [row, col] of the target element if found.\n",
    "                   If the target is not found, returns [-1, -1].\n",
    "\n",
    "    Example:\n",
    "        >>> matrix = [\n",
    "        ...     [1, 4, 7, 11],\n",
    "        ...     [2, 5, 8, 12],\n",
    "        ...     [3, 6, 9, 13],\n",
    "        ...     [10, 14, 15, 16]\n",
    "        ... ]\n",
    "        >>> search_in_sorted_matrix(matrix, 5)\n",
    "        [1, 1]\n",
    "        >>> search_in_sorted_matrix(matrix, 20)\n",
    "        [-1, -1]\n",
    "    \"\"\"\n",
    "    # Initialize pointers to start at the top-right corner of the matrix\n",
    "    row = 0\n",
    "    col = len(matrix[0]) - 1  # Assumes the matrix is non-empty and rectangular\n",
    "\n",
    "    # Traverse the matrix\n",
    "    while row < len(matrix) and col >= 0:\n",
    "        if matrix[row][col] == target:\n",
    "            # Target found, return its indices\n",
    "            return [row, col]\n",
    "        elif matrix[row][col] < target:\n",
    "            # Target is greater, eliminate the current row\n",
    "            row += 1\n",
    "        else:\n",
    "            # Target is smaller, eliminate the current column\n",
    "            col -= 1\n",
    "\n",
    "    # Target not found\n",
    "    return [-1, -1]"
   ]
  },
  {
   "cell_type": "code",
   "execution_count": 6,
   "id": "37f0e8b5-cfd1-4155-a934-5a61b56d0f20",
   "metadata": {},
   "outputs": [
    {
     "name": "stdout",
     "output_type": "stream",
     "text": [
      "Element 8 is found in location [2, 1]\n"
     ]
    }
   ],
   "source": [
    "target=8\n",
    "matrix = [\n",
    "        [1, 4, 7, 12, 15, 1000],\n",
    "        [2, 5, 19, 31, 32, 1001],\n",
    "        [3, 8, 24, 33, 35, 1002],\n",
    "        [40, 41, 42, 44, 45, 1003],\n",
    "        [99, 100, 103, 106, 128, 1004],\n",
    "    ]\n",
    "\n",
    "print(f\"Element {target} is found in location {search_in_sorted_matrix(matrix=matrix,target=target)}\")"
   ]
  },
  {
   "cell_type": "code",
   "execution_count": 2,
   "id": "8976248e-edac-4a43-8622-2c17307929b5",
   "metadata": {},
   "outputs": [],
   "source": [
    "def search_for_range(array, target):\n",
    "    l = 0\n",
    "    r = len(array) - 1\n",
    "    while l < r:\n",
    "        # left and right values are\n",
    "        if array[l] < target and array[r] > target:\n",
    "            l += 1\n",
    "            r -= 1\n",
    "        elif array[l]==target and array[r] > target:\n",
    "            r-=1\n",
    "        elif  array[l]<target and array[l] < target:\n",
    "            l+=1\n",
    "        else:\n",
    "            return [l,r]\n",
    "    return [-1,1]"
   ]
  },
  {
   "cell_type": "code",
   "execution_count": null,
   "id": "3239111d-f649-4b18-abca-b31d3b60d7e3",
   "metadata": {},
   "outputs": [],
   "source": []
  }
 ],
 "metadata": {
  "kernelspec": {
   "display_name": "Python 3 (ipykernel)",
   "language": "python",
   "name": "python3"
  },
  "language_info": {
   "codemirror_mode": {
    "name": "ipython",
    "version": 3
   },
   "file_extension": ".py",
   "mimetype": "text/x-python",
   "name": "python",
   "nbconvert_exporter": "python",
   "pygments_lexer": "ipython3",
   "version": "3.11.0"
  }
 },
 "nbformat": 4,
 "nbformat_minor": 5
}
