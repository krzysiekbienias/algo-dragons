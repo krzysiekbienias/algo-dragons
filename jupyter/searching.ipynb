{
 "cells": [
  {
   "metadata": {},
   "cell_type": "code",
   "outputs": [],
   "execution_count": null,
   "source": "from typing import List",
   "id": "42c52e762c3cff49"
  },
  {
   "cell_type": "code",
   "execution_count": 1,
   "id": "50ec76da-b5b5-4120-848d-2e6bedc27939",
   "metadata": {},
   "outputs": [],
   "source": [
    "def binary_search(array: List[int], target: int) -> int:\n",
    "    \"\"\"\n",
    "    Returns the index of `target` in a sorted array using binary search.\n",
    "    If not found, returns -1.\n",
    "\n",
    "    Parameters:\n",
    "        array (list[int]): A sorted list of integers.\n",
    "        target (int): The value to search for.\n",
    "\n",
    "    Returns:\n",
    "        int: The index of the target if found, otherwise -1.\n",
    "    \"\"\"\n",
    "    left, right = 0, len(array) - 1\n",
    "\n",
    "    while left <= right:  # must be <= otherwise it fails on a singleton list\n",
    "        mid = (left + right) // 2\n",
    "\n",
    "        if array[mid] == target:\n",
    "            return mid\n",
    "        elif array[mid] < target:\n",
    "            left = mid + 1\n",
    "        else:\n",
    "            right = mid - 1\n",
    "\n",
    "    return -1"
   ]
  },
  {
   "cell_type": "code",
   "execution_count": null,
   "id": "94017747-e625-4621-88cd-19912acc106f",
   "metadata": {},
   "outputs": [],
   "source": []
  },
  {
   "cell_type": "code",
   "execution_count": 7,
   "id": "b69ca5db-ab70-466c-8f92-794e96eab535",
   "metadata": {},
   "outputs": [],
   "source": [
    "def search_in_sorted_matrix(matrix, target):\n",
    "    \"\"\"\n",
    "    Searches for the target element in a 2D matrix where each row and column is sorted in ascending order.\n",
    "\n",
    "    This function uses an efficient algorithm that starts from the top-right corner of the matrix\n",
    "    and eliminates either a row or a column in each step based on the comparison with the target.\n",
    "    This approach ensures a time complexity of O(m + n), where m is the number of rows and n is the\n",
    "    number of columns.\n",
    "\n",
    "    Args:\n",
    "        matrix (List[List[int]]): A 2D list of integers where each row and each column is sorted\n",
    "                                  in ascending order. The matrix must contain distinct elements.\n",
    "        target (int): The integer value to search for in the matrix.\n",
    "\n",
    "    Returns:\n",
    "        List[int]: A list containing the indices [row, col] of the target element if found.\n",
    "                   If the target is not found, returns [-1, -1].\n",
    "\n",
    "    Example:\n",
    "        >>> matrix = [\n",
    "        ...     [1, 4, 7, 11],\n",
    "        ...     [2, 5, 8, 12],\n",
    "        ...     [3, 6, 9, 13],\n",
    "        ...     [10, 14, 15, 16]\n",
    "        ... ]\n",
    "        >>> search_in_sorted_matrix(matrix, 5)\n",
    "        [1, 1]\n",
    "        >>> search_in_sorted_matrix(matrix, 20)\n",
    "        [-1, -1]\n",
    "    \"\"\"\n",
    "    # Initialize pointers to start at the top-right corner of the matrix\n",
    "    row = 0\n",
    "    col = len(matrix[0]) - 1  # Assumes the matrix is non-empty and rectangular\n",
    "\n",
    "    # Traverse the matrix\n",
    "    while row < len(matrix) and col >= 0:\n",
    "        if matrix[row][col] == target:\n",
    "            # Target found, return its indices\n",
    "            return [row, col]\n",
    "        elif matrix[row][col] < target:\n",
    "            # Target is greater, eliminate the current row\n",
    "            row += 1\n",
    "        else:\n",
    "            # Target is smaller, eliminate the current column\n",
    "            col -= 1\n",
    "\n",
    "    # Target not found\n",
    "    return [-1, -1]"
   ]
  },
  {
   "cell_type": "code",
   "execution_count": 6,
   "id": "37f0e8b5-cfd1-4155-a934-5a61b56d0f20",
   "metadata": {},
   "outputs": [
    {
     "name": "stdout",
     "output_type": "stream",
     "text": [
      "Element 8 is found in location [2, 1]\n"
     ]
    }
   ],
   "source": [
    "target=8\n",
    "matrix = [\n",
    "        [1, 4, 7, 12, 15, 1000],\n",
    "        [2, 5, 19, 31, 32, 1001],\n",
    "        [3, 8, 24, 33, 35, 1002],\n",
    "        [40, 41, 42, 44, 45, 1003],\n",
    "        [99, 100, 103, 106, 128, 1004],\n",
    "    ]\n",
    "\n",
    "print(f\"Element {target} is found in location {search_in_sorted_matrix(matrix=matrix,target=target)}\")"
   ]
  },
  {
   "cell_type": "markdown",
   "id": "feeef9ab-7a7c-4f6f-bad3-990ee63b9d5d",
   "metadata": {},
   "source": [
    "# Search for range (AlgoExpert)\n",
    "Please note that  there exist also better solution, based on binary search. The one I proposed has $O(n)$"
   ]
  },
  {
   "cell_type": "code",
   "execution_count": 36,
   "id": "8976248e-edac-4a43-8622-2c17307929b5",
   "metadata": {},
   "outputs": [],
   "source": [
    "def search_for_range(array, target):\n",
    "    \"\"\"\n",
    "        Searches for the starting and ending positions of a target value in a sorted array.\n",
    "\n",
    "        This function uses a two-pointer approach to find the range of indices where the target value appears.\n",
    "        If the target is not found in the array, it returns [-1, -1].\n",
    "\n",
    "        Parameters:\n",
    "        -----------\n",
    "        array : list of int\n",
    "            A sorted list of integers in which to search for the target value.\n",
    "        target : int\n",
    "            The integer value to search for in the array.\n",
    "\n",
    "        Returns:\n",
    "        --------\n",
    "        list of int\n",
    "            A list containing two integers representing the starting and ending indices of the target value in the array.\n",
    "            If the target is not found, returns [-1, -1].\n",
    "\n",
    "        Examples:\n",
    "        ---------\n",
    "        >>> search_for_range([5, 7, 7, 8, 8, 10], 8)\n",
    "        [3, 4]\n",
    "        >>> search_for_range([5, 7, 7, 8, 8, 10], 6)\n",
    "        [-1, -1]\n",
    "        \"\"\"\n",
    "    l = 0\n",
    "    r = len(array) - 1\n",
    "\n",
    "    # edge cases: target is outside the range of the array.\n",
    "    if target < array[l] or target > array[r]:\n",
    "        return [-1, -1]\n",
    "    while l <= r:\n",
    "        # Narrow down the search range by moving the pointers\n",
    "        if array[l] < target < array[r]:\n",
    "            l += 1\n",
    "            r -= 1\n",
    "        elif array[l] <= target < array[r]:\n",
    "            r -= 1\n",
    "            if l == r and target == array[r]:\n",
    "                return [l, l]\n",
    "\n",
    "        elif array[l] < target and array[r] <= target:\n",
    "            l += 1\n",
    "            if l == r and target == array[r]:\n",
    "                return [r, r]\n",
    "        else:\n",
    "            return [l, r]\n",
    "    return [-1, -1]"
   ]
  },
  {
   "cell_type": "code",
   "execution_count": 37,
   "id": "3239111d-f649-4b18-abca-b31d3b60d7e3",
   "metadata": {},
   "outputs": [],
   "source": [
    "t1=[0, 1, 21, 33, 45, 45, 45, 45, 45, 45, 61, 71, 73] #PASSED\n",
    "t2=[0, 1, 21, 33, 45, 45, 45, 45, 45, 45, 45, 45, 45] # PaSSED\n",
    "t3=[0, 1, 21, 33, 45, 45, 45, 45, 45, 45, 61, 71, 73] # PASSED\n",
    "t4=[5, 7, 7, 8, 8, 10] #target= 10 PASSED\n",
    "t5=[5, 7, 7, 8, 8, 10] #target =5 PASSeD\n",
    "t6=[5, 7, 7, 8, 8, 10] #target =9 FAILED\n"
   ]
  },
  {
   "cell_type": "code",
   "execution_count": 42,
   "id": "f27fa003-43de-4367-89f6-709a5ec17e4c",
   "metadata": {},
   "outputs": [
    {
     "data": {
      "text/plain": [
       "[-1, -1]"
      ]
     },
     "execution_count": 42,
     "metadata": {},
     "output_type": "execute_result"
    }
   ],
   "source": [
    "search_for_range(t2,-1)"
   ]
  },
  {
   "cell_type": "code",
   "execution_count": null,
   "id": "920b249f-bd92-4641-bc15-016cc27eff15",
   "metadata": {},
   "outputs": [],
   "source": []
  }
 ],
 "metadata": {
  "kernelspec": {
   "display_name": "Python 3 (ipykernel)",
   "language": "python",
   "name": "python3"
  },
  "language_info": {
   "codemirror_mode": {
    "name": "ipython",
    "version": 3
   },
   "file_extension": ".py",
   "mimetype": "text/x-python",
   "name": "python",
   "nbconvert_exporter": "python",
   "pygments_lexer": "ipython3",
   "version": "3.11.0"
  }
 },
 "nbformat": 4,
 "nbformat_minor": 5
}
