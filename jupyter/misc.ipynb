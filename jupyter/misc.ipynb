{
 "cells": [
  {
   "cell_type": "code",
   "execution_count": 2,
   "id": "100dd1c9-8de8-4ae7-b964-57839f5f472b",
   "metadata": {},
   "outputs": [],
   "source": [
    "from collections import deque"
   ]
  },
  {
   "cell_type": "code",
   "execution_count": 6,
   "id": "39d950b3-b222-4b72-978c-5a02f2b0ed6a",
   "metadata": {},
   "outputs": [],
   "source": [
    "que=deque([2,3,1,8,3,6,1,0,])"
   ]
  },
  {
   "cell_type": "code",
   "execution_count": 7,
   "id": "cc29854d-6b15-4ee7-b2b4-0bb61dacb01b",
   "metadata": {},
   "outputs": [
    {
     "data": {
      "text/plain": [
       "deque([2, 3, 1, 8, 3, 6, 1, 0])"
      ]
     },
     "execution_count": 7,
     "metadata": {},
     "output_type": "execute_result"
    }
   ],
   "source": [
    "que"
   ]
  },
  {
   "cell_type": "code",
   "execution_count": 8,
   "id": "5fa946e8-c2e3-49a3-8b5f-c3c830ebb76f",
   "metadata": {},
   "outputs": [
    {
     "data": {
      "text/plain": [
       "2"
      ]
     },
     "execution_count": 8,
     "metadata": {},
     "output_type": "execute_result"
    }
   ],
   "source": [
    "que.popleft()"
   ]
  },
  {
   "cell_type": "code",
   "execution_count": 9,
   "id": "ed3fe2a7-86e1-4152-a0fa-111bbaffd311",
   "metadata": {},
   "outputs": [
    {
     "data": {
      "text/plain": [
       "deque([3, 1, 8, 3, 6, 1, 0])"
      ]
     },
     "execution_count": 9,
     "metadata": {},
     "output_type": "execute_result"
    }
   ],
   "source": [
    "que"
   ]
  },
  {
   "cell_type": "code",
   "execution_count": 10,
   "id": "a4d46bd0-b323-4e7a-a189-05d085b2802c",
   "metadata": {},
   "outputs": [
    {
     "data": {
      "text/plain": [
       "0"
      ]
     },
     "execution_count": 10,
     "metadata": {},
     "output_type": "execute_result"
    }
   ],
   "source": [
    "que.pop()"
   ]
  },
  {
   "cell_type": "code",
   "execution_count": 7,
   "id": "ada4bc2c-8ffb-463a-9988-9fa417528906",
   "metadata": {},
   "outputs": [],
   "source": [
    "d1=dict()\n",
    "d1['2']=set([4])"
   ]
  },
  {
   "cell_type": "code",
   "execution_count": 8,
   "id": "75075e0c-2d11-4964-a90e-950e56335ecc",
   "metadata": {},
   "outputs": [],
   "source": [
    "d1['2'].add(5)"
   ]
  },
  {
   "cell_type": "code",
   "execution_count": 9,
   "id": "039673a5-17fc-4a86-91c8-1d7cc8554d55",
   "metadata": {},
   "outputs": [
    {
     "data": {
      "text/plain": [
       "{'2': {4, 5}}"
      ]
     },
     "execution_count": 9,
     "metadata": {},
     "output_type": "execute_result"
    }
   ],
   "source": [
    "d1"
   ]
  },
  {
   "cell_type": "code",
   "execution_count": 18,
   "id": "93d976f3-8bf5-4d54-91bd-bc762d182e2b",
   "metadata": {},
   "outputs": [],
   "source": [
    "l1=[2,4,6,9]"
   ]
  },
  {
   "cell_type": "code",
   "execution_count": 19,
   "id": "8ec45947-a7e8-400a-87fd-748648734095",
   "metadata": {},
   "outputs": [],
   "source": [
    "a=l1.pop(0)"
   ]
  },
  {
   "cell_type": "code",
   "execution_count": 20,
   "id": "60847195-284a-4511-9d44-c034486a9ffc",
   "metadata": {},
   "outputs": [
    {
     "data": {
      "text/plain": [
       "2"
      ]
     },
     "execution_count": 20,
     "metadata": {},
     "output_type": "execute_result"
    }
   ],
   "source": [
    "a"
   ]
  },
  {
   "cell_type": "code",
   "execution_count": null,
   "id": "57102187-b5ea-4956-96b3-cf54902a0370",
   "metadata": {},
   "outputs": [],
   "source": [
    "what toe"
   ]
  }
 ],
 "metadata": {
  "kernelspec": {
   "display_name": "Python 3 (ipykernel)",
   "language": "python",
   "name": "python3"
  },
  "language_info": {
   "codemirror_mode": {
    "name": "ipython",
    "version": 3
   },
   "file_extension": ".py",
   "mimetype": "text/x-python",
   "name": "python",
   "nbconvert_exporter": "python",
   "pygments_lexer": "ipython3",
   "version": "3.11.0"
  }
 },
 "nbformat": 4,
 "nbformat_minor": 5
}
