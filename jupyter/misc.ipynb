{
 "cells": [
  {
   "cell_type": "code",
   "execution_count": 2,
   "id": "100dd1c9-8de8-4ae7-b964-57839f5f472b",
   "metadata": {},
   "outputs": [],
   "source": [
    "from collections import deque"
   ]
  },
  {
   "cell_type": "code",
   "execution_count": 6,
   "id": "39d950b3-b222-4b72-978c-5a02f2b0ed6a",
   "metadata": {},
   "outputs": [],
   "source": [
    "que=deque([2,3,1,8,3,6,1,0,])"
   ]
  },
  {
   "cell_type": "code",
   "execution_count": 7,
   "id": "cc29854d-6b15-4ee7-b2b4-0bb61dacb01b",
   "metadata": {},
   "outputs": [
    {
     "data": {
      "text/plain": [
       "deque([2, 3, 1, 8, 3, 6, 1, 0])"
      ]
     },
     "execution_count": 7,
     "metadata": {},
     "output_type": "execute_result"
    }
   ],
   "source": [
    "que"
   ]
  },
  {
   "cell_type": "code",
   "execution_count": 8,
   "id": "5fa946e8-c2e3-49a3-8b5f-c3c830ebb76f",
   "metadata": {},
   "outputs": [
    {
     "data": {
      "text/plain": [
       "2"
      ]
     },
     "execution_count": 8,
     "metadata": {},
     "output_type": "execute_result"
    }
   ],
   "source": [
    "que.popleft()"
   ]
  },
  {
   "cell_type": "code",
   "execution_count": 9,
   "id": "ed3fe2a7-86e1-4152-a0fa-111bbaffd311",
   "metadata": {},
   "outputs": [
    {
     "data": {
      "text/plain": [
       "deque([3, 1, 8, 3, 6, 1, 0])"
      ]
     },
     "execution_count": 9,
     "metadata": {},
     "output_type": "execute_result"
    }
   ],
   "source": [
    "que"
   ]
  },
  {
   "cell_type": "code",
   "execution_count": 10,
   "id": "a4d46bd0-b323-4e7a-a189-05d085b2802c",
   "metadata": {},
   "outputs": [
    {
     "data": {
      "text/plain": [
       "0"
      ]
     },
     "execution_count": 10,
     "metadata": {},
     "output_type": "execute_result"
    }
   ],
   "source": [
    "que.pop()"
   ]
  },
  {
   "cell_type": "code",
   "execution_count": 7,
   "id": "ada4bc2c-8ffb-463a-9988-9fa417528906",
   "metadata": {},
   "outputs": [],
   "source": [
    "d1=dict()\n",
    "d1['2']=set([4])"
   ]
  },
  {
   "cell_type": "code",
   "execution_count": 8,
   "id": "75075e0c-2d11-4964-a90e-950e56335ecc",
   "metadata": {},
   "outputs": [],
   "source": [
    "d1['2'].add(5)"
   ]
  },
  {
   "cell_type": "code",
   "execution_count": 9,
   "id": "039673a5-17fc-4a86-91c8-1d7cc8554d55",
   "metadata": {},
   "outputs": [
    {
     "data": {
      "text/plain": [
       "{'2': {4, 5}}"
      ]
     },
     "execution_count": 9,
     "metadata": {},
     "output_type": "execute_result"
    }
   ],
   "source": [
    "d1"
   ]
  },
  {
   "cell_type": "code",
   "execution_count": 18,
   "id": "93d976f3-8bf5-4d54-91bd-bc762d182e2b",
   "metadata": {},
   "outputs": [],
   "source": [
    "l1=[2,4,6,9]"
   ]
  },
  {
   "cell_type": "code",
   "execution_count": 19,
   "id": "8ec45947-a7e8-400a-87fd-748648734095",
   "metadata": {},
   "outputs": [],
   "source": [
    "a=l1.pop(0)"
   ]
  },
  {
   "cell_type": "code",
   "execution_count": 20,
   "id": "60847195-284a-4511-9d44-c034486a9ffc",
   "metadata": {},
   "outputs": [
    {
     "data": {
      "text/plain": [
       "2"
      ]
     },
     "execution_count": 20,
     "metadata": {},
     "output_type": "execute_result"
    }
   ],
   "source": [
    "a"
   ]
  },
  {
   "cell_type": "code",
   "execution_count": null,
   "id": "57102187-b5ea-4956-96b3-cf54902a0370",
   "metadata": {},
   "outputs": [],
   "source": [
    "what toe"
   ]
  },
  {
   "cell_type": "code",
   "execution_count": 1,
   "id": "e8461aae-700c-45ab-aeb3-68e9f672ef4b",
   "metadata": {},
   "outputs": [],
   "source": [
    "arr=[1,2,3,4]\n"
   ]
  },
  {
   "cell_type": "code",
   "execution_count": 4,
   "id": "8a1ba020-7d5c-4e26-b7d1-396ccc34ec41",
   "metadata": {},
   "outputs": [
    {
     "name": "stdout",
     "output_type": "stream",
     "text": [
      "[2, 3, 4]\n",
      "[1, 3, 4]\n",
      "[1, 2, 4]\n",
      "[1, 2, 3]\n"
     ]
    }
   ],
   "source": [
    "\n",
    "for i in range(len(arr)):\n",
    "    print(arr[:i]+arr[i+1:])"
   ]
  },
  {
   "cell_type": "code",
   "execution_count": 1,
   "id": "00758bfb-550e-4211-87ff-8fc34f8d520a",
   "metadata": {},
   "outputs": [],
   "source": [
    "intervals = [[1, 2], [3, 5], [4, 7], [6, 8], [9, 10]]"
   ]
  },
  {
   "cell_type": "code",
   "execution_count": 2,
   "id": "00735c98-8ca2-499d-a2a5-55af3314bdf3",
   "metadata": {},
   "outputs": [
    {
     "name": "stdout",
     "output_type": "stream",
     "text": [
      "[1, 2] [3, 5]\n",
      "[3, 5] [4, 7]\n",
      "[4, 7] [6, 8]\n",
      "[6, 8] [9, 10]\n"
     ]
    }
   ],
   "source": [
    "for i in range(1,len(intervals)):\n",
    "    print(intervals[i-1],intervals[i])"
   ]
  },
  {
   "cell_type": "code",
   "execution_count": 4,
   "id": "5c0202fb-4f1f-4399-8cd2-1fa45e0c4235",
   "metadata": {},
   "outputs": [
    {
     "name": "stdout",
     "output_type": "stream",
     "text": [
      "[1, 2] [3, 5]\n",
      "[3, 5] [4, 7]\n",
      "[4, 7] [6, 8]\n",
      "[6, 8] [9, 10]\n"
     ]
    }
   ],
   "source": [
    "for i in range(len(intervals)-1):\n",
    "    print(intervals[i],intervals[i+1])"
   ]
  },
  {
   "cell_type": "code",
   "execution_count": 1,
   "id": "5f5eca07-13ab-4916-adab-0f800f20d194",
   "metadata": {},
   "outputs": [],
   "source": [
    "s=set()"
   ]
  },
  {
   "cell_type": "code",
   "execution_count": 2,
   "id": "ffb5ad44-ff70-42db-8ef8-24278ff3b794",
   "metadata": {},
   "outputs": [],
   "source": [
    "s.add(1)"
   ]
  },
  {
   "cell_type": "code",
   "execution_count": 3,
   "id": "6864123a-6294-48d4-acdb-0296bd3d4533",
   "metadata": {},
   "outputs": [
    {
     "data": {
      "text/plain": [
       "{1}"
      ]
     },
     "execution_count": 3,
     "metadata": {},
     "output_type": "execute_result"
    }
   ],
   "source": [
    "s"
   ]
  },
  {
   "cell_type": "code",
   "execution_count": 4,
   "id": "38c0ab41-cfa3-4e14-8349-0ac77d6e9d22",
   "metadata": {},
   "outputs": [
    {
     "data": {
      "text/plain": [
       "True"
      ]
     },
     "execution_count": 4,
     "metadata": {},
     "output_type": "execute_result"
    }
   ],
   "source": [
    "1 in s"
   ]
  },
  {
   "cell_type": "code",
   "execution_count": 3,
   "id": "8f4281db-de5d-414b-b41c-3e22f7197b67",
   "metadata": {},
   "outputs": [],
   "source": [
    "import math"
   ]
  },
  {
   "cell_type": "code",
   "execution_count": 10,
   "id": "cdd897e5-fbea-464f-a59a-2c958b469268",
   "metadata": {},
   "outputs": [
    {
     "data": {
      "text/plain": [
       "25.5754247590989"
      ]
     },
     "execution_count": 10,
     "metadata": {},
     "output_type": "execute_result"
    }
   ],
   "source": [
    "math.log(50000000,2)"
   ]
  },
  {
   "cell_type": "code",
   "execution_count": 11,
   "id": "5adaa263-7933-4238-9230-7a02e3b21982",
   "metadata": {},
   "outputs": [],
   "source": [
    "class BinaryTree:\n",
    "    def __init__(self, value, left=None, right=None):\n",
    "        self.value = value\n",
    "        self.left = left\n",
    "        self.right = right\n",
    "\n",
    "\n",
    "def binaryTreeDiameter(tree):\n",
    "    max_diameter=0\n",
    "\n",
    "    def dfs(tree):\n",
    "        if tree is None:\n",
    "            return -1\n",
    "        left=dfs(tree.left)\n",
    "        right=dfs(tree.right)\n",
    "        max_diameter=max(max_diameter,left+right+2)\n",
    "        return 1+max(left,right)\n",
    "    dfs(tree)\n",
    "    return max_diameter"
   ]
  },
  {
   "cell_type": "code",
   "execution_count": null,
   "id": "f9c2ef6f-ed8d-4fad-8d65-8ce8184ac145",
   "metadata": {},
   "outputs": [],
   "source": []
  }
 ],
 "metadata": {
  "kernelspec": {
   "display_name": "Python 3 (ipykernel)",
   "language": "python",
   "name": "python3"
  },
  "language_info": {
   "codemirror_mode": {
    "name": "ipython",
    "version": 3
   },
   "file_extension": ".py",
   "mimetype": "text/x-python",
   "name": "python",
   "nbconvert_exporter": "python",
   "pygments_lexer": "ipython3",
   "version": "3.11.0"
  }
 },
 "nbformat": 4,
 "nbformat_minor": 5
}
