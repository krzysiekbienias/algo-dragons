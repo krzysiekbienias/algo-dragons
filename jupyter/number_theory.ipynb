{
 "cells": [
  {
   "cell_type": "code",
   "id": "initial_id",
   "metadata": {
    "collapsed": true,
    "ExecuteTime": {
     "end_time": "2024-12-26T19:10:19.758147Z",
     "start_time": "2024-12-26T19:10:19.733521Z"
    }
   },
   "source": [
    "import latexify\n",
    "from typing import List"
   ],
   "outputs": [],
   "execution_count": 2
  },
  {
   "metadata": {
    "ExecuteTime": {
     "end_time": "2024-12-26T19:10:20.159206Z",
     "start_time": "2024-12-26T19:10:20.156587Z"
    }
   },
   "cell_type": "code",
   "source": [
    "@latexify.algorithmic\n",
    "def sum_of_digits(n: int) -> int:\n",
    "    if n == 0:\n",
    "        return 0\n",
    "    else:\n",
    "        return n % 10 + sum_of_digits(n // 10)\n"
   ],
   "id": "9655a5390c621446",
   "outputs": [],
   "execution_count": 3
  },
  {
   "metadata": {
    "ExecuteTime": {
     "end_time": "2024-12-26T19:10:30.898712Z",
     "start_time": "2024-12-26T19:10:30.893608Z"
    }
   },
   "cell_type": "code",
   "source": "sum_of_digits",
   "id": "64e7a5ab15b93180",
   "outputs": [
    {
     "data": {
      "text/plain": [
       "<latexify.ipython_wrappers.LatexifiedAlgorithm at 0x114237290>"
      ],
      "text/latex": "$ \\begin{array}{l} \\mathbf{function} \\ \\mathrm{sum\\_of\\_digits}(n) \\\\ \\hspace{1em} \\mathbf{if} \\ n = 0 \\\\ \\hspace{2em} \\mathbf{return} \\ 0 \\\\ \\hspace{1em} \\mathbf{else} \\\\ \\hspace{2em} \\mathbf{return} \\ n \\mathbin{\\%} 10 + \\mathrm{sum\\_of\\_digits} \\mathopen{}\\left( \\left\\lfloor\\frac{n}{10}\\right\\rfloor \\mathclose{}\\right) \\\\ \\hspace{1em} \\mathbf{end \\ if} \\\\ \\mathbf{end \\ function} \\end{array} $"
     },
     "execution_count": 4,
     "metadata": {},
     "output_type": "execute_result"
    }
   ],
   "execution_count": 4
  },
  {
   "metadata": {
    "ExecuteTime": {
     "end_time": "2024-12-26T19:16:15.103330Z",
     "start_time": "2024-12-26T19:16:15.099290Z"
    }
   },
   "cell_type": "code",
   "source": [
    "@latexify.algorithmic\n",
    "def greatest_common_divisor(n: int, m: int) -> int:\n",
    "    if m == 0:\n",
    "        return n\n",
    "    else:\n",
    "        return greatest_common_divisor(m, n % m)"
   ],
   "id": "2ef0c946bb973ddc",
   "outputs": [],
   "execution_count": 8
  },
  {
   "metadata": {
    "ExecuteTime": {
     "end_time": "2024-12-26T19:16:15.874974Z",
     "start_time": "2024-12-26T19:16:15.871228Z"
    }
   },
   "cell_type": "code",
   "source": "greatest_common_divisor",
   "id": "bedb67f9c88c68b6",
   "outputs": [
    {
     "data": {
      "text/plain": [
       "<latexify.ipython_wrappers.LatexifiedAlgorithm at 0x1145639d0>"
      ],
      "text/latex": "$ \\begin{array}{l} \\mathbf{function} \\ \\mathrm{greatest\\_common\\_divisor}(n, m) \\\\ \\hspace{1em} \\mathbf{if} \\ m = 0 \\\\ \\hspace{2em} \\mathbf{return} \\ n \\\\ \\hspace{1em} \\mathbf{else} \\\\ \\hspace{2em} \\mathbf{return} \\ \\mathrm{greatest\\_common\\_divisor} \\mathopen{}\\left( m, n \\mathbin{\\%} m \\mathclose{}\\right) \\\\ \\hspace{1em} \\mathbf{end \\ if} \\\\ \\mathbf{end \\ function} \\end{array} $"
     },
     "execution_count": 9,
     "metadata": {},
     "output_type": "execute_result"
    }
   ],
   "execution_count": 9
  },
  {
   "metadata": {},
   "cell_type": "code",
   "outputs": [],
   "execution_count": null,
   "source": "",
   "id": "137b6ad882ab147a"
  }
 ],
 "metadata": {
  "kernelspec": {
   "display_name": "Python 3",
   "language": "python",
   "name": "python3"
  },
  "language_info": {
   "codemirror_mode": {
    "name": "ipython",
    "version": 2
   },
   "file_extension": ".py",
   "mimetype": "text/x-python",
   "name": "python",
   "nbconvert_exporter": "python",
   "pygments_lexer": "ipython2",
   "version": "2.7.6"
  }
 },
 "nbformat": 4,
 "nbformat_minor": 5
}
