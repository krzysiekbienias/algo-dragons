{
 "cells": [
  {
   "cell_type": "markdown",
   "id": "8fcea956-f5c4-4c3e-909a-1b24defafc0e",
   "metadata": {},
   "source": [
    "# Distance and Similarities"
   ]
  },
  {
   "cell_type": "code",
   "execution_count": 5,
   "id": "d7cc9208-318d-4725-9ec5-c4b0182ddb69",
   "metadata": {},
   "outputs": [],
   "source": [
    "import math\n",
    "\n",
    "class Metrics:\n",
    "    \n",
    "   def euclidean_distance(self, X, Y):\n",
    "        \"\"\"\n",
    "        Description\n",
    "        -----------\n",
    "        Function that returns Euclidean distance between two vectors\n",
    "        Parameters\n",
    "        ----------\n",
    "        X :\n",
    "        Y :\n",
    "    \n",
    "        Returns\n",
    "        -------\n",
    "    \n",
    "        \"\"\"\n",
    "        dist=0\n",
    "        for i in range(len(X)):\n",
    "            dist+=(X[i]-Y[i])**2\n",
    "        return math.sqrt(dist)\n",
    "\n",
    "   def manhattan_distance(self, X, Y):\n",
    "       dist=0\n",
    "       for i in range(len(X)):\n",
    "            dist+=abs(X[i]-Y[i])\n",
    "       return dist\n",
    "\n",
    "   def cosine_similarity(self, X, Y):\n",
    "       norm_X=math.sqrt(sum(map(lambda xi:xi**2,X)))\n",
    "       norm_Y=math.sqrt(sum(map(lambda yi:yi**2,Y)))\n",
    "       dot_product=sum(xi*yi for xi,yi in zip(X,Y))\n",
    "       return dot_product/(norm_X*norm_Y)\n",
    "\n",
    "   def jaccard_similarity(self, X, Y):\n",
    "        \"\"\"\n",
    "        Description\n",
    "        -----------\n",
    "        Jaccard Similarity is a statistical measure used to gauge similarity between two sets. It is defined as the size of\n",
    "        the intersection of the sets divided by union of the sets.\n",
    "        Parameters\n",
    "        ----------\n",
    "        X :\n",
    "        Y :\n",
    "    \n",
    "        Returns\n",
    "        -------\n",
    "\n",
    "        \"\"\"\n",
    "        x_set=set(X)\n",
    "        y_set=set(Y)\n",
    "        js=len(x_set.intersection(y_set))/len(x_set.union(y_set))\n",
    "        return js"
   ]
  },
  {
   "cell_type": "code",
   "execution_count": 9,
   "id": "9e6bd461-e7f7-4056-8d15-1756970d8bcf",
   "metadata": {},
   "outputs": [],
   "source": [
    "x=[12, 15, 27, 88]\n",
    "y=[7, 6, 3, -1]"
   ]
  },
  {
   "cell_type": "code",
   "execution_count": 10,
   "id": "7c771ea2-4671-4e71-8a32-44bb5e23e232",
   "metadata": {},
   "outputs": [],
   "source": [
    "metrics=Metrics()"
   ]
  },
  {
   "cell_type": "code",
   "execution_count": 11,
   "id": "51445657-5b51-4599-9d6d-551153d29d7d",
   "metadata": {},
   "outputs": [
    {
     "data": {
      "text/plain": [
       "127"
      ]
     },
     "execution_count": 11,
     "metadata": {},
     "output_type": "execute_result"
    }
   ],
   "source": [
    "metrics.manhattan_distance(X=x,Y=y)"
   ]
  },
  {
   "cell_type": "code",
   "execution_count": 15,
   "id": "a7735e02-774b-4ca6-99ff-9b280dbc6319",
   "metadata": {},
   "outputs": [
    {
     "data": {
      "text/plain": [
       "127"
      ]
     },
     "execution_count": 15,
     "metadata": {},
     "output_type": "execute_result"
    }
   ],
   "source": [
    "12-7+15-6+27-3+88+1"
   ]
  },
  {
   "cell_type": "code",
   "execution_count": null,
   "id": "d647ee06-f6e6-4637-9c1e-0160a49b8a0b",
   "metadata": {},
   "outputs": [],
   "source": []
  }
 ],
 "metadata": {
  "kernelspec": {
   "display_name": "Python 3 (ipykernel)",
   "language": "python",
   "name": "python3"
  },
  "language_info": {
   "codemirror_mode": {
    "name": "ipython",
    "version": 3
   },
   "file_extension": ".py",
   "mimetype": "text/x-python",
   "name": "python",
   "nbconvert_exporter": "python",
   "pygments_lexer": "ipython3",
   "version": "3.11.0"
  }
 },
 "nbformat": 4,
 "nbformat_minor": 5
}
