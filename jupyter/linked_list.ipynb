{
 "cells": [
  {
   "cell_type": "code",
   "execution_count": 3,
   "id": "initial_id",
   "metadata": {
    "ExecuteTime": {
     "end_time": "2024-12-26T19:19:33.079330Z",
     "start_time": "2024-12-26T19:19:33.057183Z"
    },
    "collapsed": true,
    "jupyter": {
     "outputs_hidden": true
    }
   },
   "outputs": [],
   "source": [
    "import latexify"
   ]
  },
  {
   "cell_type": "code",
   "execution_count": null,
   "id": "68e5a55bd4c6fb98",
   "metadata": {},
   "outputs": [],
   "source": [
    "from random import randint\n",
    "import numpy as np\n",
    "\n",
    "np.random.seed(5)\n",
    "\n",
    "class Node:\n",
    "    def __init__(self, value) -> None:\n",
    "        \"\"\"\n",
    "        Description\n",
    "        -----------\n",
    "        Node object for linked list\n",
    "\n",
    "        Parameters\n",
    "        ----------\n",
    "        value : int\n",
    "        \"\"\"\n",
    "\n",
    "        self.value = value\n",
    "        self.next = None\n",
    "\n",
    "\n",
    "class LinkedList:\n",
    "\n",
    "    def __init__(self):\n",
    "        \"\"\"\n",
    "        Description\n",
    "        -----------\n",
    "        Linked list without any Node.\n",
    "        \"\"\"\n",
    "        self.head = None\n",
    "        self.tail = None\n",
    "        self.length = 0\n",
    "\n",
    "    def __str__(self):\n",
    "        temp_node = self.head\n",
    "        result = ''\n",
    "        while temp_node is not None:\n",
    "            result += str(temp_node.value)\n",
    "            if temp_node.next is not None:\n",
    "                result += ' -> '\n",
    "            temp_node = temp_node.next\n",
    "\n",
    "        return result\n",
    "\n",
    "    def append(self, value: int):\n",
    "        new_node = Node(value)\n",
    "        if self.head is None:\n",
    "            self.head = new_node\n",
    "            self.tail = new_node\n",
    "\n",
    "        else:\n",
    "            self.tail.next = new_node\n",
    "            self.tail = new_node\n",
    "        self.length += 1\n",
    "\n",
    "    def prepend(self, value: int):\n",
    "        new_node = Node(value)\n",
    "        if self.head is None:\n",
    "            self.head = new_node\n",
    "            self.tail = new_node\n",
    "        else:\n",
    "            new_node.next = self.head\n",
    "            self.head = new_node\n",
    "        self.length += 1\n",
    "\n",
    "    def traverse(self) -> None:\n",
    "        \"\"\"\n",
    "        Description\n",
    "        -----------\n",
    "        Traverse the linked list\n",
    "        Returns\n",
    "        -------\n",
    "        None\n",
    "\n",
    "        \"\"\"\n",
    "        temp = self.head\n",
    "        while temp is not None:\n",
    "            print(temp.value)\n",
    "            temp = temp.next\n",
    "\n",
    "    def search(self, target: int) -> bool:\n",
    "        \"\"\"\n",
    "        Description\n",
    "        -----------\n",
    "        Checks if a value is present in the linked list.\n",
    "\n",
    "        Parameters\n",
    "        ----------\n",
    "        target\n",
    "\n",
    "        Returns\n",
    "        -------\n",
    "        bool\n",
    "\n",
    "        \"\"\"\n",
    "        temp = self.head\n",
    "        while temp is not None:\n",
    "            if temp.value == target:\n",
    "                return True\n",
    "\n",
    "        return False\n",
    "\n",
    "    def get_value(self, index: int) -> Node:\n",
    "        \"\"\"\n",
    "        Description\n",
    "        -----------\n",
    "        Get the Node at the given index.\n",
    "\n",
    "        Parameters\n",
    "        ----------\n",
    "        index:int\n",
    "\n",
    "        Returns\n",
    "        -------\n",
    "        None\n",
    "        \"\"\"\n",
    "        if index == -1:\n",
    "            return self.tail\n",
    "        if index < -1 or index > self.length:\n",
    "            return None\n",
    "        current = self.head\n",
    "        for _ in range(index):\n",
    "            current = current.next\n",
    "        return current\n",
    "\n",
    "    def set_value(self, index: int, new_value: int):\n",
    "        temp_node = self.get_value(index)\n",
    "        if temp_node:\n",
    "            temp_node.value = new_value\n",
    "        else:\n",
    "            return None\n",
    "\n",
    "    def generate(self,n:int,min_value:int,max_value:int):\n",
    "        self.head=None\n",
    "        self.tail=None\n",
    "        for i in range(n):\n",
    "            self.append(np.random.randint(min_value,max_value))\n",
    "        return self\n",
    "\n",
    "\n",
    "\n",
    "    def remove_all(self):\n",
    "        self.head = None\n",
    "        self.tail = None\n",
    "        self.length = 0\n",
    "\n",
    "\n",
    "class LinkedListWithOneNode:\n",
    "\n",
    "    def __init__(self, value) -> None:\n",
    "        \"\"\"\n",
    "\n",
    "        Parameters\n",
    "        ----------\n",
    "        value :\n",
    "        \"\"\"\n",
    "\n",
    "        new_node = Node(value)\n",
    "\n",
    "        self.head = new_node\n",
    "        self.tail = new_node\n",
    "\n",
    "        self.length = 1\n",
    "\n",
    "    def print_linked_list(self):\n",
    "        temp = self.head\n",
    "        while self.head is not None:\n",
    "            print(str(temp.val) + \"->\")\n",
    "            temp = temp.next\n",
    "\n",
    "\n",
    "if __name__ == '__main__':\n",
    "    linked_list = LinkedList()\n",
    "    linked_list.append(1)\n",
    "    linked_list.append(1)\n",
    "    linked_list.append(2)\n",
    "    linked_list.append(3)\n",
    "    linked_list.append(3)\n",
    "\n",
    "    print(linked_list)\n",
    "    linked_list.set_value(1, 22)\n",
    "    print(linked_list)\n",
    "\n",
    "    custom_list=LinkedList()\n",
    "    custom_list.generate(10,1,100)\n",
    "    print(custom_list)\n",
    "\n",
    "\n",
    "    print(\"the end\")\n"
   ]
  },
  {
   "cell_type": "code",
   "execution_count": null,
   "id": "87d1a468e3bac101",
   "metadata": {},
   "outputs": [],
   "source": []
  },
  {
   "cell_type": "code",
   "execution_count": 13,
   "id": "693354537086a8fa",
   "metadata": {
    "ExecuteTime": {
     "end_time": "2024-12-26T19:20:23.830180Z",
     "start_time": "2024-12-26T19:20:23.826962Z"
    }
   },
   "outputs": [],
   "source": [
    "@latexify.algorithmic\n",
    "def append_ell(self, value: int):\n",
    "        new_node = Node(value)\n",
    "        if self.head is None:\n",
    "            self.head = new_node\n",
    "            self.tail = new_node\n",
    "\n",
    "        else:\n",
    "            self.tail.next = new_node\n",
    "            self.tail = new_node\n",
    "        self.length += 1"
   ]
  },
  {
   "cell_type": "code",
   "execution_count": 14,
   "id": "111b34de3a36b831",
   "metadata": {
    "ExecuteTime": {
     "end_time": "2024-12-26T19:20:24.386848Z",
     "start_time": "2024-12-26T19:20:24.384150Z"
    }
   },
   "outputs": [
    {
     "data": {
      "text/latex": [
       "$ \\begin{array}{l} \\mathbf{function} \\ \\mathrm{append\\_ell}(\\mathrm{self}, \\mathrm{value}) \\\\ \\hspace{1em} \\mathrm{new\\_node} \\gets \\mathrm{Node} \\mathopen{}\\left( \\mathrm{value} \\mathclose{}\\right) \\\\ \\hspace{1em} \\mathbf{if} \\ \\mathrm{self}.\\mathrm{head} \\equiv \\mathrm{None} \\\\ \\hspace{2em} \\mathrm{self}.\\mathrm{head} \\gets \\mathrm{new\\_node} \\\\ \\hspace{2em} \\mathrm{self}.\\mathrm{tail} \\gets \\mathrm{new\\_node} \\\\ \\hspace{1em} \\mathbf{else} \\\\ \\hspace{2em} \\mathrm{self}.\\mathrm{tail}.\\mathrm{next} \\gets \\mathrm{new\\_node} \\\\ \\hspace{2em} \\mathrm{self}.\\mathrm{tail} \\gets \\mathrm{new\\_node} \\\\ \\hspace{1em} \\mathbf{end \\ if} \\\\ \\hspace{1em} \\mathrm{self}.\\mathrm{length} \\gets \\mathrm{self}.\\mathrm{length} + 1 \\\\ \\mathbf{end \\ function} \\end{array} $"
      ],
      "text/plain": [
       "<latexify.ipython_wrappers.LatexifiedAlgorithm at 0x1026c9010>"
      ]
     },
     "execution_count": 14,
     "metadata": {},
     "output_type": "execute_result"
    }
   ],
   "source": [
    "append_ell"
   ]
  },
  {
   "cell_type": "code",
   "execution_count": 2,
   "id": "f668b8063f5ab762",
   "metadata": {
    "ExecuteTime": {
     "end_time": "2024-12-28T09:16:30.916675Z",
     "start_time": "2024-12-28T09:16:30.914355Z"
    }
   },
   "outputs": [],
   "source": [
    "class Node:\n",
    "    def __init__(self, value) -> None:\n",
    "        \"\"\"\n",
    "        Description\n",
    "        -----------\n",
    "        Node object for linked list\n",
    "\n",
    "        Parameters\n",
    "        ----------\n",
    "        value : int\n",
    "        \"\"\"\n",
    "\n",
    "        self.value = value\n",
    "        self.next = None"
   ]
  },
  {
   "cell_type": "code",
   "execution_count": 4,
   "id": "ca72ef0d08f4036c",
   "metadata": {
    "ExecuteTime": {
     "end_time": "2024-12-28T09:16:55.067638Z",
     "start_time": "2024-12-28T09:16:55.065333Z"
    }
   },
   "outputs": [],
   "source": [
    "node1=Node(1)\n",
    "node2=Node(1)\n",
    "node3=Node(3)\n",
    "node4=Node(4)\n",
    "node5=Node(4)\n",
    "node6=Node(5)\n",
    "node7=Node(6)\n",
    "node8=Node(6)\n",
    "ll=node1.next"
   ]
  },
  {
   "cell_type": "code",
   "execution_count": null,
   "id": "20dbf8cfa6649f3f",
   "metadata": {},
   "outputs": [],
   "source": []
  }
 ],
 "metadata": {
  "kernelspec": {
   "display_name": "Python 3 (ipykernel)",
   "language": "python",
   "name": "python3"
  },
  "language_info": {
   "codemirror_mode": {
    "name": "ipython",
    "version": 3
   },
   "file_extension": ".py",
   "mimetype": "text/x-python",
   "name": "python",
   "nbconvert_exporter": "python",
   "pygments_lexer": "ipython3",
   "version": "3.11.0"
  }
 },
 "nbformat": 4,
 "nbformat_minor": 5
}
