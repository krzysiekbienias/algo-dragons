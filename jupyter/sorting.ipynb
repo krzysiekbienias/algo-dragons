{
 "cells": [
  {
   "metadata": {
    "ExecuteTime": {
     "end_time": "2024-12-27T11:56:37.006355Z",
     "start_time": "2024-12-27T11:56:36.982200Z"
    }
   },
   "cell_type": "code",
   "source": [
    "import math\n",
    "import latexify\n",
    "from typing import List"
   ],
   "id": "a96f721e380b01b1",
   "outputs": [],
   "execution_count": 2
  },
  {
   "metadata": {},
   "cell_type": "markdown",
   "source": [
    "# Basic sorting Algorithms\n",
    "Below we present pseudo code for following basic sorting:\n",
    "* insert sorting \n",
    "* merge sorting\n",
    "* bubble sorting\n",
    "\n",
    "\n"
   ],
   "id": "4cd706389903c677"
  },
  {
   "metadata": {
    "ExecuteTime": {
     "end_time": "2024-12-26T18:15:20.812320Z",
     "start_time": "2024-12-26T18:15:20.806497Z"
    }
   },
   "cell_type": "code",
   "source": [
    "@latexify.algorithmic()\n",
    "def insertion_sorting(array):\n",
    "    for i in range(1, len(array)):\n",
    "        j = i\n",
    "        while j > 0 and array[j] < array[j - 1]:\n",
    "            array[j], array[j - 1] = array[j - 1], array[j]\n",
    "            j -= 1\n",
    "            \n"
   ],
   "id": "13d86d77d9c011cf",
   "outputs": [],
   "execution_count": 4
  },
  {
   "metadata": {
    "ExecuteTime": {
     "end_time": "2024-12-26T18:15:21.705793Z",
     "start_time": "2024-12-26T18:15:21.702128Z"
    }
   },
   "cell_type": "code",
   "source": "insertion_sorting",
   "id": "b838f45f72e2d014",
   "outputs": [
    {
     "data": {
      "text/plain": [
       "<latexify.ipython_wrappers.LatexifiedAlgorithm at 0x1048d5590>"
      ],
      "text/latex": "$ \\begin{array}{l} \\mathbf{function} \\ \\mathrm{insertion\\_sorting}(\\mathrm{array}) \\\\ \\hspace{1em} \\mathbf{for} \\ i \\in \\mathrm{range} \\mathopen{}\\left( 1, \\mathrm{len} \\mathopen{}\\left( \\mathrm{array} \\mathclose{}\\right) \\mathclose{}\\right) \\ \\mathbf{do} \\\\ \\hspace{2em} j \\gets i \\\\ \\hspace{2em} \\mathbf{while} \\ j > 0 \\land \\mathrm{array}_{j} < \\mathrm{array}_{j - 1} \\\\ \\hspace{3em} \\mathopen{}\\left( \\mathrm{array}_{j}, \\mathrm{array}_{j - 1} \\mathclose{}\\right) \\gets \\mathopen{}\\left( \\mathrm{array}_{j - 1}, \\mathrm{array}_{j} \\mathclose{}\\right) \\\\ \\hspace{3em} j \\gets j - 1 \\\\ \\hspace{2em} \\mathbf{end \\ while} \\\\ \\hspace{1em} \\mathbf{end \\ for} \\\\ \\mathbf{end \\ function} \\end{array} $"
     },
     "execution_count": 5,
     "metadata": {},
     "output_type": "execute_result"
    }
   ],
   "execution_count": 5
  },
  {
   "metadata": {
    "ExecuteTime": {
     "end_time": "2024-12-27T11:57:22.777916Z",
     "start_time": "2024-12-27T11:57:22.772505Z"
    }
   },
   "cell_type": "code",
   "source": [
    "@latexify.algorithmic()\n",
    "def merge(left_array: List[int], right_array: List[int]) -> List[int]:\n",
    "    l, r, res = 0, 0, []\n",
    "    while l < len(left_array) or r < len(right_array):\n",
    "        al = left_array[l] if l < len(left_array) else float('inf')\n",
    "        br = right_array[r] if r < len(right_array) else float('inf')\n",
    "        if al < br:\n",
    "            res.append(al)\n",
    "            l += 1\n",
    "        else:\n",
    "            res.append(br)\n",
    "            r += 1\n",
    "    return res\n",
    "\n"
   ],
   "id": "2f0a4c49d50c4b26",
   "outputs": [],
   "execution_count": 8
  },
  {
   "metadata": {
    "ExecuteTime": {
     "end_time": "2024-12-27T11:57:23.916351Z",
     "start_time": "2024-12-27T11:57:23.912749Z"
    }
   },
   "cell_type": "code",
   "source": "merge",
   "id": "84b5a5c2e967b36c",
   "outputs": [
    {
     "data": {
      "text/plain": [
       "<latexify.ipython_wrappers.LatexifiedAlgorithm at 0x106a88310>"
      ],
      "text/latex": "$ \\begin{array}{l} \\mathbf{function} \\ \\mathrm{merge}(\\mathrm{left\\_array}, \\mathrm{right\\_array}) \\\\ \\hspace{1em} \\mathopen{}\\left( l, r, \\mathrm{res} \\mathclose{}\\right) \\gets \\mathopen{}\\left( 0, 0, \\mathopen{}\\left[  \\mathclose{}\\right] \\mathclose{}\\right) \\\\ \\hspace{1em} \\mathbf{while} \\ l < \\mathrm{len} \\mathopen{}\\left( \\mathrm{left\\_array} \\mathclose{}\\right) \\lor r < \\mathrm{len} \\mathopen{}\\left( \\mathrm{right\\_array} \\mathclose{}\\right) \\\\ \\hspace{2em} \\mathrm{al} \\gets \\left\\{ \\begin{array}{ll} \\mathrm{left\\_array}_{l}, & \\mathrm{if} \\ l < \\mathrm{len} \\mathopen{}\\left( \\mathrm{left\\_array} \\mathclose{}\\right) \\\\ \\mathrm{float} \\mathopen{}\\left( \\textrm{\"inf\"} \\mathclose{}\\right), & \\mathrm{otherwise} \\end{array} \\right. \\\\ \\hspace{2em} \\mathrm{br} \\gets \\left\\{ \\begin{array}{ll} \\mathrm{right\\_array}_{r}, & \\mathrm{if} \\ r < \\mathrm{len} \\mathopen{}\\left( \\mathrm{right\\_array} \\mathclose{}\\right) \\\\ \\mathrm{float} \\mathopen{}\\left( \\textrm{\"inf\"} \\mathclose{}\\right), & \\mathrm{otherwise} \\end{array} \\right. \\\\ \\hspace{2em} \\mathbf{if} \\ \\mathrm{al} < \\mathrm{br} \\\\ \\hspace{3em} \\mathrm{res}.\\mathrm{append} \\mathopen{}\\left( \\mathrm{al} \\mathclose{}\\right) \\\\ \\hspace{3em} l \\gets l + 1 \\\\ \\hspace{2em} \\mathbf{else} \\\\ \\hspace{3em} \\mathrm{res}.\\mathrm{append} \\mathopen{}\\left( \\mathrm{br} \\mathclose{}\\right) \\\\ \\hspace{3em} r \\gets r + 1 \\\\ \\hspace{2em} \\mathbf{end \\ if} \\\\ \\hspace{1em} \\mathbf{end \\ while} \\\\ \\hspace{1em} \\mathbf{return} \\ \\mathrm{res} \\\\ \\mathbf{end \\ function} \\end{array} $"
     },
     "execution_count": 9,
     "metadata": {},
     "output_type": "execute_result"
    }
   ],
   "execution_count": 9
  },
  {
   "metadata": {
    "ExecuteTime": {
     "end_time": "2024-12-27T11:56:45.749412Z",
     "start_time": "2024-12-27T11:56:45.744333Z"
    }
   },
   "cell_type": "code",
   "source": [
    "# you cannot laatexify this becasue tehre are slices\n",
    "def merge_sort(array: List[int]) -> List[int]:\n",
    "    if len(array) <= 1:\n",
    "        return array\n",
    "    l = merge_sort(array[:len(array) // 2])\n",
    "    r = merge_sort(array[len(array) // 2:])\n",
    "    return merge(l, r)"
   ],
   "id": "a3d3ed98e48f8087",
   "outputs": [],
   "execution_count": 4
  },
  {
   "metadata": {
    "ExecuteTime": {
     "end_time": "2024-12-27T11:56:46.836506Z",
     "start_time": "2024-12-27T11:56:46.831432Z"
    }
   },
   "cell_type": "code",
   "source": "merge_sort",
   "id": "4b91c9302d8a5fe2",
   "outputs": [
    {
     "data": {
      "text/plain": [
       "<latexify.ipython_wrappers.LatexifiedAlgorithm at 0x105a2b990>"
      ],
      "text/html": [
       "<span style=\"color: red;\">LatexifyNotSupportedError: Unsupported AST: Slice</span>"
      ],
      "text/latex": "LatexifyNotSupportedError: Unsupported AST: Slice"
     },
     "execution_count": 5,
     "metadata": {},
     "output_type": "execute_result"
    }
   ],
   "execution_count": 5
  },
  {
   "metadata": {
    "ExecuteTime": {
     "end_time": "2024-12-27T14:38:21.809010Z",
     "start_time": "2024-12-27T14:38:21.799530Z"
    }
   },
   "cell_type": "code",
   "source": [
    "@latexify.algorithmic()\n",
    "def trasnsponse_matrix(matrix):\n",
    "    transposed_matrix = [[0] * len(matrix) for _ in range(len(matrix[0]))]\n",
    "    for i in range(len(matrix)):\n",
    "        for j in range(len(matrix[0])):\n",
    "            transposed_matrix[j][i]=matrix[i][j]\n",
    "    return transposed_matrix\n"
   ],
   "id": "c9160e2a38449f9a",
   "outputs": [],
   "execution_count": 10
  },
  {
   "metadata": {
    "ExecuteTime": {
     "end_time": "2024-12-27T14:38:25.084139Z",
     "start_time": "2024-12-27T14:38:25.081399Z"
    }
   },
   "cell_type": "code",
   "source": "trasnsponse_matrix",
   "id": "7ca0d9e5b34f7d1e",
   "outputs": [
    {
     "data": {
      "text/plain": [
       "<latexify.ipython_wrappers.LatexifiedAlgorithm at 0x10600a250>"
      ],
      "text/latex": "$ \\begin{array}{l} \\mathbf{function} \\ \\mathrm{trasnsponse\\_matrix}(\\mathrm{matrix}) \\\\ \\hspace{1em} \\mathrm{transposed\\_matrix} \\gets \\mathopen{}\\left[ \\mathopen{}\\left[ 0 \\mathclose{}\\right] \\mathrm{len} \\mathopen{}\\left( \\mathrm{matrix} \\mathclose{}\\right) \\mid \\mathrm{\\_} \\in \\mathrm{range} \\mathopen{}\\left( \\mathrm{len} \\mathopen{}\\left( \\mathrm{matrix}_{0} \\mathclose{}\\right) \\mathclose{}\\right) \\mathclose{}\\right] \\\\ \\hspace{1em} \\mathbf{for} \\ i \\in \\mathrm{range} \\mathopen{}\\left( \\mathrm{len} \\mathopen{}\\left( \\mathrm{matrix} \\mathclose{}\\right) \\mathclose{}\\right) \\ \\mathbf{do} \\\\ \\hspace{2em} \\mathbf{for} \\ j \\in \\mathrm{range} \\mathopen{}\\left( \\mathrm{len} \\mathopen{}\\left( \\mathrm{matrix}_{0} \\mathclose{}\\right) \\mathclose{}\\right) \\ \\mathbf{do} \\\\ \\hspace{3em} \\mathrm{transposed\\_matrix}_{j, i} \\gets \\mathrm{matrix}_{i, j} \\\\ \\hspace{2em} \\mathbf{end \\ for} \\\\ \\hspace{1em} \\mathbf{end \\ for} \\\\ \\hspace{1em} \\mathbf{return} \\ \\mathrm{transposed\\_matrix} \\\\ \\mathbf{end \\ function} \\end{array} $"
     },
     "execution_count": 11,
     "metadata": {},
     "output_type": "execute_result"
    }
   ],
   "execution_count": 11
  },
  {
   "metadata": {},
   "cell_type": "code",
   "outputs": [],
   "execution_count": null,
   "source": "",
   "id": "ffd6d2c16d3cab87"
  }
 ],
 "metadata": {
  "kernelspec": {
   "display_name": "Python 3",
   "language": "python",
   "name": "python3"
  },
  "language_info": {
   "codemirror_mode": {
    "name": "ipython",
    "version": 2
   },
   "file_extension": ".py",
   "mimetype": "text/x-python",
   "name": "python",
   "nbconvert_exporter": "python",
   "pygments_lexer": "ipython2",
   "version": "2.7.6"
  }
 },
 "nbformat": 4,
 "nbformat_minor": 5
}
