{
 "cells": [
  {
   "cell_type": "markdown",
   "id": "d6ff5d669bc9341d",
   "metadata": {},
   "source": [
    "# Two Number sum\n",
    "For given array check if exist two numbers that sum up to target\n"
   ]
  },
  {
   "cell_type": "code",
   "execution_count": 1,
   "id": "e84f31644712b2d0",
   "metadata": {
    "ExecuteTime": {
     "end_time": "2024-12-27T11:04:26.966246Z",
     "start_time": "2024-12-27T11:04:26.962386Z"
    }
   },
   "outputs": [],
   "source": [
    "arr=[3,5,-4,8,11,1,-1,6]\n",
    "target =10"
   ]
  },
  {
   "cell_type": "code",
   "execution_count": 7,
   "id": "ac7d3d7ee30d5be2",
   "metadata": {
    "ExecuteTime": {
     "end_time": "2024-12-27T11:28:33.226500Z",
     "start_time": "2024-12-27T11:28:33.219370Z"
    }
   },
   "outputs": [],
   "source": [
    "def two_number_sum(array, target_sum):\n",
    "    array.sort()\n",
    "    low_p=0\n",
    "    high_p=len(array)-1\n",
    "    while low_p<high_p:\n",
    "        if array[low_p]+array[high_p]==target_sum:\n",
    "            return [array[low_p],array[high_p]]\n",
    "        elif array[low_p]+array[high_p]<target_sum:\n",
    "            low_p+=1\n",
    "        else:\n",
    "            high_p-=1\n",
    "    return []"
   ]
  },
  {
   "cell_type": "code",
   "execution_count": 1,
   "id": "55b80d0c66cd69e2",
   "metadata": {
    "ExecuteTime": {
     "end_time": "2025-01-06T11:36:24.326938Z",
     "start_time": "2025-01-06T11:36:24.322431Z"
    }
   },
   "outputs": [],
   "source": [
    "lst=[1, 2, 3, 4, 5, 6, 7, 8, 9, 10]"
   ]
  },
  {
   "cell_type": "code",
   "execution_count": 2,
   "id": "47bf8daf8992cffb",
   "metadata": {
    "ExecuteTime": {
     "end_time": "2025-01-06T11:36:52.869657Z",
     "start_time": "2025-01-06T11:36:52.864167Z"
    }
   },
   "outputs": [
    {
     "data": {
      "text/plain": [
       "[1, 2, 3, 4, 5, 6, 7, 8, 9, 10]"
      ]
     },
     "execution_count": 2,
     "metadata": {},
     "output_type": "execute_result"
    }
   ],
   "source": [
    "lst[::1]"
   ]
  },
  {
   "cell_type": "code",
   "execution_count": 6,
   "id": "6801e6a80f7fefd8",
   "metadata": {
    "ExecuteTime": {
     "end_time": "2025-01-06T11:39:11.586407Z",
     "start_time": "2025-01-06T11:39:11.582685Z"
    }
   },
   "outputs": [
    {
     "data": {
      "text/plain": [
       "[10, 9, 8, 7, 6, 5, 4, 3, 2, 1]"
      ]
     },
     "execution_count": 6,
     "metadata": {},
     "output_type": "execute_result"
    }
   ],
   "source": [
    "a=lst[::-1]\n",
    "a"
   ]
  },
  {
   "cell_type": "code",
   "execution_count": 9,
   "id": "745ac9c813d19169",
   "metadata": {
    "ExecuteTime": {
     "end_time": "2025-01-06T11:40:18.223017Z",
     "start_time": "2025-01-06T11:40:18.220249Z"
    }
   },
   "outputs": [
    {
     "data": {
      "text/plain": [
       "[10, 9, 8, 7, 6, 5, 4]"
      ]
     },
     "execution_count": 9,
     "metadata": {},
     "output_type": "execute_result"
    }
   ],
   "source": [
    "b=a[:-3]\n",
    "b"
   ]
  },
  {
   "cell_type": "code",
   "execution_count": 10,
   "id": "2c2dc8e5d81881b3",
   "metadata": {
    "ExecuteTime": {
     "end_time": "2025-01-06T11:40:37.604314Z",
     "start_time": "2025-01-06T11:40:37.600945Z"
    }
   },
   "outputs": [
    {
     "data": {
      "text/plain": [
       "[8, 7, 6, 5, 4]"
      ]
     },
     "execution_count": 10,
     "metadata": {},
     "output_type": "execute_result"
    }
   ],
   "source": [
    "c=b[2:]\n",
    "c"
   ]
  },
  {
   "cell_type": "code",
   "execution_count": 11,
   "id": "1678ae1ef16d715e",
   "metadata": {
    "ExecuteTime": {
     "end_time": "2025-01-06T11:40:53.916303Z",
     "start_time": "2025-01-06T11:40:53.913581Z"
    }
   },
   "outputs": [
    {
     "data": {
      "text/plain": [
       "[8, 6, 4]"
      ]
     },
     "execution_count": 11,
     "metadata": {},
     "output_type": "execute_result"
    }
   ],
   "source": [
    "c[::2]"
   ]
  },
  {
   "cell_type": "code",
   "execution_count": 12,
   "id": "33b9a24963f52332",
   "metadata": {
    "ExecuteTime": {
     "end_time": "2025-01-06T12:21:05.803888Z",
     "start_time": "2025-01-06T12:21:05.680167Z"
    }
   },
   "outputs": [
    {
     "ename": "TypeError",
     "evalue": "'<' not supported between instances of 'NoneType' and 'int'",
     "output_type": "error",
     "traceback": [
      "\u001b[0;31m---------------------------------------------------------------------------\u001b[0m",
      "\u001b[0;31mTypeError\u001b[0m                                 Traceback (most recent call last)",
      "Cell \u001b[0;32mIn[12], line 1\u001b[0m\n\u001b[0;32m----> 1\u001b[0m \u001b[38;5;28;01mif\u001b[39;00m(\u001b[38;5;28;43;01mNone\u001b[39;49;00m\u001b[38;5;241;43m<\u001b[39;49m\u001b[38;5;241;43m5\u001b[39;49m):\n\u001b[1;32m      2\u001b[0m     \u001b[38;5;28mprint\u001b[39m(\u001b[38;5;124m'\u001b[39m\u001b[38;5;124ma\u001b[39m\u001b[38;5;124m'\u001b[39m)\n",
      "\u001b[0;31mTypeError\u001b[0m: '<' not supported between instances of 'NoneType' and 'int'"
     ]
    }
   ],
   "source": [
    "if(None<5):\n",
    "    print('a')"
   ]
  },
  {
   "cell_type": "markdown",
   "id": "e90d1f30-ae4f-45d6-99fb-f33f133af412",
   "metadata": {},
   "source": [
    "# Is valid subsequence "
   ]
  },
  {
   "cell_type": "code",
   "execution_count": 10,
   "id": "52b65603-131e-4a7e-a490-78068750e45a",
   "metadata": {},
   "outputs": [],
   "source": [
    "def is_valid_subsequence(array, sequence):\n",
    "    array_index = 0\n",
    "    subsequent_index = 0\n",
    "    while array_index < len(array) and subsequent_index < len(sequence):\n",
    "        if array[array_index] == sequence[subsequent_index]:\n",
    "            array_index += 1\n",
    "            subsequent_index += 1\n",
    "        else:\n",
    "            array_index += 1  # we move only index in full array\n",
    "    return subsequent_index == len(sequence)"
   ]
  },
  {
   "cell_type": "code",
   "execution_count": 11,
   "id": "78c6e531-48d2-4a65-8f53-1d1ce34b6d9e",
   "metadata": {},
   "outputs": [],
   "source": [
    "arr=[5, 1, 22, 25, 6, -1, 8, 10]\n",
    "sequence=[1, 6, -1, 10]"
   ]
  },
  {
   "cell_type": "code",
   "execution_count": 12,
   "id": "ae6112ec-0864-4527-866d-da5a47613bc2",
   "metadata": {},
   "outputs": [
    {
     "data": {
      "text/plain": [
       "True"
      ]
     },
     "execution_count": 12,
     "metadata": {},
     "output_type": "execute_result"
    }
   ],
   "source": [
    "is_valid_subsequence(array=arr,sequence=sequence)"
   ]
  },
  {
   "cell_type": "code",
   "execution_count": null,
   "id": "8df2a35e-f4ab-4024-a631-d42176f2d851",
   "metadata": {},
   "outputs": [],
   "source": []
  }
 ],
 "metadata": {
  "kernelspec": {
   "display_name": "Python 3 (ipykernel)",
   "language": "python",
   "name": "python3"
  },
  "language_info": {
   "codemirror_mode": {
    "name": "ipython",
    "version": 3
   },
   "file_extension": ".py",
   "mimetype": "text/x-python",
   "name": "python",
   "nbconvert_exporter": "python",
   "pygments_lexer": "ipython3",
   "version": "3.11.0"
  }
 },
 "nbformat": 4,
 "nbformat_minor": 5
}
