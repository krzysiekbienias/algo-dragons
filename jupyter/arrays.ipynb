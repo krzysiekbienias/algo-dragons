{
 "cells": [
  {
   "metadata": {},
   "cell_type": "markdown",
   "source": [
    "# Two Number sum\n",
    "For given array check if exist two numbers that sum up to target\n"
   ],
   "id": "d6ff5d669bc9341d"
  },
  {
   "metadata": {
    "ExecuteTime": {
     "end_time": "2024-12-27T11:04:26.966246Z",
     "start_time": "2024-12-27T11:04:26.962386Z"
    }
   },
   "cell_type": "code",
   "source": [
    "arr=[3,5,-4,8,11,1,-1,6]\n",
    "target =10"
   ],
   "id": "e84f31644712b2d0",
   "outputs": [],
   "execution_count": 1
  },
  {
   "metadata": {
    "ExecuteTime": {
     "end_time": "2024-12-27T11:28:33.226500Z",
     "start_time": "2024-12-27T11:28:33.219370Z"
    }
   },
   "cell_type": "code",
   "source": [
    "def two_number_sum(array, target_sum):\n",
    "    array.sort()\n",
    "    low_p=0\n",
    "    high_p=len(array)-1\n",
    "    while low_p<high_p:\n",
    "        if array[low_p]+array[high_p]==target_sum:\n",
    "            return [array[low_p],array[high_p]]\n",
    "        elif array[low_p]+array[high_p]<target_sum:\n",
    "            low_p+=1\n",
    "        else:\n",
    "            high_p-=1\n",
    "    return []"
   ],
   "id": "ac7d3d7ee30d5be2",
   "outputs": [],
   "execution_count": 7
  },
  {
   "metadata": {
    "ExecuteTime": {
     "end_time": "2025-01-06T11:36:24.326938Z",
     "start_time": "2025-01-06T11:36:24.322431Z"
    }
   },
   "cell_type": "code",
   "source": "lst=[1, 2, 3, 4, 5, 6, 7, 8, 9, 10]",
   "id": "55b80d0c66cd69e2",
   "outputs": [],
   "execution_count": 1
  },
  {
   "metadata": {
    "ExecuteTime": {
     "end_time": "2025-01-06T11:36:52.869657Z",
     "start_time": "2025-01-06T11:36:52.864167Z"
    }
   },
   "cell_type": "code",
   "source": "lst[::1]",
   "id": "47bf8daf8992cffb",
   "outputs": [
    {
     "data": {
      "text/plain": [
       "[1, 2, 3, 4, 5, 6, 7, 8, 9, 10]"
      ]
     },
     "execution_count": 2,
     "metadata": {},
     "output_type": "execute_result"
    }
   ],
   "execution_count": 2
  },
  {
   "metadata": {
    "ExecuteTime": {
     "end_time": "2025-01-06T11:39:11.586407Z",
     "start_time": "2025-01-06T11:39:11.582685Z"
    }
   },
   "cell_type": "code",
   "source": [
    "a=lst[::-1]\n",
    "a"
   ],
   "id": "6801e6a80f7fefd8",
   "outputs": [
    {
     "data": {
      "text/plain": [
       "[10, 9, 8, 7, 6, 5, 4, 3, 2, 1]"
      ]
     },
     "execution_count": 6,
     "metadata": {},
     "output_type": "execute_result"
    }
   ],
   "execution_count": 6
  },
  {
   "metadata": {
    "ExecuteTime": {
     "end_time": "2025-01-06T11:40:18.223017Z",
     "start_time": "2025-01-06T11:40:18.220249Z"
    }
   },
   "cell_type": "code",
   "source": [
    "b=a[:-3]\n",
    "b"
   ],
   "id": "745ac9c813d19169",
   "outputs": [
    {
     "data": {
      "text/plain": [
       "[10, 9, 8, 7, 6, 5, 4]"
      ]
     },
     "execution_count": 9,
     "metadata": {},
     "output_type": "execute_result"
    }
   ],
   "execution_count": 9
  },
  {
   "metadata": {
    "ExecuteTime": {
     "end_time": "2025-01-06T11:40:37.604314Z",
     "start_time": "2025-01-06T11:40:37.600945Z"
    }
   },
   "cell_type": "code",
   "source": [
    "c=b[2:]\n",
    "c"
   ],
   "id": "2c2dc8e5d81881b3",
   "outputs": [
    {
     "data": {
      "text/plain": [
       "[8, 7, 6, 5, 4]"
      ]
     },
     "execution_count": 10,
     "metadata": {},
     "output_type": "execute_result"
    }
   ],
   "execution_count": 10
  },
  {
   "metadata": {
    "ExecuteTime": {
     "end_time": "2025-01-06T11:40:53.916303Z",
     "start_time": "2025-01-06T11:40:53.913581Z"
    }
   },
   "cell_type": "code",
   "source": "c[::2]",
   "id": "1678ae1ef16d715e",
   "outputs": [
    {
     "data": {
      "text/plain": [
       "[8, 6, 4]"
      ]
     },
     "execution_count": 11,
     "metadata": {},
     "output_type": "execute_result"
    }
   ],
   "execution_count": 11
  },
  {
   "metadata": {
    "ExecuteTime": {
     "end_time": "2025-01-06T12:21:05.803888Z",
     "start_time": "2025-01-06T12:21:05.680167Z"
    }
   },
   "cell_type": "code",
   "source": [
    "if(None<5):\n",
    "    print('a')"
   ],
   "id": "33b9a24963f52332",
   "outputs": [
    {
     "ename": "TypeError",
     "evalue": "'<' not supported between instances of 'NoneType' and 'int'",
     "output_type": "error",
     "traceback": [
      "\u001B[0;31m---------------------------------------------------------------------------\u001B[0m",
      "\u001B[0;31mTypeError\u001B[0m                                 Traceback (most recent call last)",
      "Cell \u001B[0;32mIn[12], line 1\u001B[0m\n\u001B[0;32m----> 1\u001B[0m \u001B[38;5;28;01mif\u001B[39;00m(\u001B[38;5;28;43;01mNone\u001B[39;49;00m\u001B[38;5;241;43m<\u001B[39;49m\u001B[38;5;241;43m5\u001B[39;49m):\n\u001B[1;32m      2\u001B[0m     \u001B[38;5;28mprint\u001B[39m(\u001B[38;5;124m'\u001B[39m\u001B[38;5;124ma\u001B[39m\u001B[38;5;124m'\u001B[39m)\n",
      "\u001B[0;31mTypeError\u001B[0m: '<' not supported between instances of 'NoneType' and 'int'"
     ]
    }
   ],
   "execution_count": 12
  },
  {
   "metadata": {},
   "cell_type": "code",
   "outputs": [],
   "execution_count": null,
   "source": "",
   "id": "88023391157dba8"
  }
 ],
 "metadata": {
  "kernelspec": {
   "display_name": "Python 3",
   "language": "python",
   "name": "python3"
  },
  "language_info": {
   "codemirror_mode": {
    "name": "ipython",
    "version": 2
   },
   "file_extension": ".py",
   "mimetype": "text/x-python",
   "name": "python",
   "nbconvert_exporter": "python",
   "pygments_lexer": "ipython2",
   "version": "2.7.6"
  }
 },
 "nbformat": 4,
 "nbformat_minor": 5
}
