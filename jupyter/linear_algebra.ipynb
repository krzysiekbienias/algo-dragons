{
 "cells": [
  {
   "cell_type": "code",
   "execution_count": 2,
   "id": "bd9975216286c993",
   "metadata": {
    "ExecuteTime": {
     "end_time": "2024-12-29T13:25:40.767289Z",
     "start_time": "2024-12-29T13:25:40.511073Z"
    }
   },
   "outputs": [],
   "source": [
    "import latexify\n",
    "from sympy import Matrix\n",
    "from typing import List"
   ]
  },
  {
   "cell_type": "markdown",
   "id": "45925480dd4548d1",
   "metadata": {},
   "source": [
    "# Matrix multiplication\n",
    "$$\n",
    "C[i][j] = \\sum_{k=1}^n A[i][k] \\cdot B[k][j]\n",
    "$$\n",
    "Note that we need 3 loops to multiply matrix\n",
    "\n"
   ]
  },
  {
   "cell_type": "code",
   "execution_count": 2,
   "id": "d27863a94e0e721",
   "metadata": {
    "ExecuteTime": {
     "end_time": "2024-12-29T13:25:43.182717Z",
     "start_time": "2024-12-29T13:25:43.177248Z"
    }
   },
   "outputs": [],
   "source": [
    "\n",
    "def matrix_multiplication(A,B):\n",
    "    C=[[0]*len(B[0]) for _ in range(len(A))]\n",
    "    for i in range(len(A)):\n",
    "        for j in range(len(B[0])):\n",
    "            for k in range(len(A[0])):\n",
    "                C[i][j]+=A[i][k]*B[k][j]\n",
    "    return C"
   ]
  },
  {
   "cell_type": "markdown",
   "id": "a7cf0c174ef50b65",
   "metadata": {},
   "source": [
    "# Sparce matrices multiplication\n",
    "The most importnat think is to create dictionaries with non zero elements.. Key in this map would be position of the elemnt in the matrix.\n"
   ]
  },
  {
   "cell_type": "code",
   "execution_count": 25,
   "id": "52410e2ca44f491e",
   "metadata": {
    "ExecuteTime": {
     "end_time": "2024-12-27T10:48:34.957649Z",
     "start_time": "2024-12-27T10:48:34.954961Z"
    }
   },
   "outputs": [],
   "source": [
    "mat_a=Matrix([[0, 2, 0], [0, 0, 0], [0, 1, 0]])"
   ]
  },
  {
   "cell_type": "code",
   "execution_count": 26,
   "id": "aa86a0cdb3517288",
   "metadata": {
    "ExecuteTime": {
     "end_time": "2024-12-27T10:48:37.186513Z",
     "start_time": "2024-12-27T10:48:37.182806Z"
    }
   },
   "outputs": [
    {
     "data": {
      "text/latex": [
       "$\\displaystyle \\left[\\begin{matrix}0 & 2 & 0\\\\0 & 0 & 0\\\\0 & 1 & 0\\end{matrix}\\right]$"
      ],
      "text/plain": [
       "Matrix([\n",
       "[0, 2, 0],\n",
       "[0, 0, 0],\n",
       "[0, 1, 0]])"
      ]
     },
     "execution_count": 26,
     "metadata": {},
     "output_type": "execute_result"
    }
   ],
   "source": [
    "mat_a"
   ]
  },
  {
   "cell_type": "markdown",
   "id": "4a640fb703975fdd",
   "metadata": {},
   "source": []
  },
  {
   "cell_type": "code",
   "execution_count": 29,
   "id": "2c3ddf6c241c9986",
   "metadata": {
    "ExecuteTime": {
     "end_time": "2024-12-27T10:51:32.014669Z",
     "start_time": "2024-12-27T10:51:32.011122Z"
    }
   },
   "outputs": [],
   "source": [
    "def get_non_zero_elements_dict(a_matrix: List[List[int]]) -> dict:\n",
    "    \"\"\"\n",
    "    Description\n",
    "    -----------\n",
    "    This function takes a matrix as input and returns a dictionary that contains only non-zero elements.\n",
    "\n",
    "    Parameters\n",
    "    ----------\n",
    "    a_matrix\n",
    "\n",
    "    Returns\n",
    "    -------\n",
    "    Dictionary that contains only non-zero elements, from matrix.\n",
    "\n",
    "    \"\"\"\n",
    "\n",
    "    non_zero_cells_dict = dict()\n",
    "    for i in range(len(a_matrix)):\n",
    "        for j in range(len(a_matrix[0])):\n",
    "            if a_matrix[i][j] != 0:\n",
    "                non_zero_cells_dict[(i, j)] = a_matrix[i][j]\n",
    "    return non_zero_cells_dict"
   ]
  },
  {
   "cell_type": "code",
   "execution_count": 30,
   "id": "267b221794e406a5",
   "metadata": {
    "ExecuteTime": {
     "end_time": "2024-12-27T10:51:58.312241Z",
     "start_time": "2024-12-27T10:51:58.309358Z"
    }
   },
   "outputs": [
    {
     "data": {
      "text/plain": [
       "{(0, 1): 2, (2, 1): 1}"
      ]
     },
     "execution_count": 30,
     "metadata": {},
     "output_type": "execute_result"
    }
   ],
   "source": [
    "get_non_zero_elements_dict(a_matrix=[[0, 2, 0], [0, 0, 0], [0, 1, 0]])"
   ]
  },
  {
   "cell_type": "markdown",
   "id": "238453ee-1575-44f6-8849-88d22d2114b6",
   "metadata": {},
   "source": [
    "# Matrix Traversion"
   ]
  },
  {
   "cell_type": "code",
   "execution_count": 54,
   "id": "6f8e3729-243d-42b9-ac41-bb6be6938e94",
   "metadata": {},
   "outputs": [],
   "source": [
    "from typing import List\n",
    "\n",
    "\n",
    "class MatrixTraverse:\n",
    "    def __init__(self,matrix:List[List[int]]=None):\n",
    "        self.__matrix = matrix if matrix is not None else [[]]\n",
    "\n",
    "    def get_matrix(self) -> List[List[int]]:\n",
    "        \"\"\"Getter method for the matrix attribute.\"\"\"\n",
    "        return self.__matrix\n",
    "\n",
    "\n",
    "    def set_matrix(self, new_matrix: List[List[int]]):\n",
    "        \"\"\"Setter method for the matrix attribute.\"\"\"\n",
    "        if not isinstance(new_matrix, list) or not all(isinstance(row, list) for row in new_matrix):\n",
    "            raise ValueError(\"Matrix must be a list of lists.\")\n",
    "        self.__matrix = new_matrix  # Update the private attribute\n",
    "\n",
    "    def row_by_row(self)->List[int]:\n",
    "        result=[]\n",
    "        start_row,end_row=0,len(self.__matrix)-1\n",
    "        start_col,end_col=0,len(self.__matrix[0])-1\n",
    "        while start_row<=end_row and start_col<=end_col:\n",
    "            for col in range(start_col,end_col+1):\n",
    "                result.append(self.__matrix[start_row][col])\n",
    "            start_row+=1\n",
    "        return result\n",
    "                     \n",
    "    def column_by_column(self)->List[int]:\n",
    "        result=[]\n",
    "        start_row,end_row=0,len(self.__matrix)-1\n",
    "        start_col,end_col=0,len(self.__matrix[0])-1\n",
    "        while start_row<=end_row and start_col<=end_col:\n",
    "            for row in range(start_row,end_row+1):\n",
    "                result.append(self.__matrix[row][start_col])\n",
    "            start_col+=1\n",
    "        return result\n",
    "\n",
    "    def snake(self):\n",
    "        pass\n",
    "\n",
    "    def spiral(self):\n",
    "        pass"
   ]
  },
  {
   "cell_type": "code",
   "execution_count": 55,
   "id": "7cabd2fa-8145-4081-96f5-8b67929304da",
   "metadata": {},
   "outputs": [],
   "source": [
    "matr_trav=MatrixTraverse()\n"
   ]
  },
  {
   "cell_type": "code",
   "execution_count": 56,
   "id": "15499564-a8be-4b13-833e-24c39ff7856e",
   "metadata": {},
   "outputs": [],
   "source": [
    "t1_matr=[\n",
    "    [1, 2, 3],\n",
    "    [8, 9, 4],\n",
    "    [7, 6, 5]\n",
    "  ]"
   ]
  },
  {
   "cell_type": "code",
   "execution_count": 57,
   "id": "d6c54e2f-e28e-46d1-bd8c-c48310cb1acb",
   "metadata": {},
   "outputs": [],
   "source": [
    "matr_trav.set_matrix(new_matrix=t1_matr)"
   ]
  },
  {
   "cell_type": "code",
   "execution_count": 58,
   "id": "47ce1a01-14a2-4530-9f9a-5ad4bcb4be37",
   "metadata": {},
   "outputs": [
    {
     "data": {
      "text/plain": [
       "[[1, 2, 3], [8, 9, 4], [7, 6, 5]]"
      ]
     },
     "execution_count": 58,
     "metadata": {},
     "output_type": "execute_result"
    }
   ],
   "source": [
    "matr_trav.get_matrix()"
   ]
  },
  {
   "cell_type": "code",
   "execution_count": 59,
   "id": "6fd0a6bc-08c8-4830-aebb-49da8994dc0b",
   "metadata": {},
   "outputs": [
    {
     "data": {
      "text/plain": [
       "[1, 2, 3, 8, 9, 4, 7, 6, 5]"
      ]
     },
     "execution_count": 59,
     "metadata": {},
     "output_type": "execute_result"
    }
   ],
   "source": [
    "matr_trav.row_by_row()\n"
   ]
  },
  {
   "cell_type": "code",
   "execution_count": 60,
   "id": "b328124b-9079-4934-ad2e-b9b171251e99",
   "metadata": {},
   "outputs": [
    {
     "data": {
      "text/plain": [
       "[1, 8, 7, 2, 9, 6, 3, 4, 5]"
      ]
     },
     "execution_count": 60,
     "metadata": {},
     "output_type": "execute_result"
    }
   ],
   "source": [
    "matr_trav.column_by_column()"
   ]
  },
  {
   "cell_type": "code",
   "execution_count": null,
   "id": "01596da7-efe6-463c-841f-3348bccbae39",
   "metadata": {},
   "outputs": [],
   "source": []
  }
 ],
 "metadata": {
  "kernelspec": {
   "display_name": "Python 3 (ipykernel)",
   "language": "python",
   "name": "python3"
  },
  "language_info": {
   "codemirror_mode": {
    "name": "ipython",
    "version": 3
   },
   "file_extension": ".py",
   "mimetype": "text/x-python",
   "name": "python",
   "nbconvert_exporter": "python",
   "pygments_lexer": "ipython3",
   "version": "3.11.0"
  }
 },
 "nbformat": 4,
 "nbformat_minor": 5
}
