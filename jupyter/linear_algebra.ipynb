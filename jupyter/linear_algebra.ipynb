{
 "cells": [
  {
   "metadata": {
    "ExecuteTime": {
     "end_time": "2024-12-29T13:25:40.767289Z",
     "start_time": "2024-12-29T13:25:40.511073Z"
    }
   },
   "cell_type": "code",
   "source": [
    "import latexify\n",
    "from sympy import Matrix\n",
    "from typing import List"
   ],
   "id": "bd9975216286c993",
   "outputs": [],
   "execution_count": 2
  },
  {
   "metadata": {},
   "cell_type": "markdown",
   "source": [
    "# Matrix multiplication\n",
    "$$\n",
    "C[i][j] = \\sum_{k=1}^n A[i][k] \\cdot B[k][j]\n",
    "$$\n",
    "\n",
    "\n"
   ],
   "id": "45925480dd4548d1"
  },
  {
   "metadata": {
    "ExecuteTime": {
     "end_time": "2024-12-29T13:25:43.182717Z",
     "start_time": "2024-12-29T13:25:43.177248Z"
    }
   },
   "cell_type": "code",
   "source": [
    "@latexify.algorithmic\n",
    "def matrix_multiplication(A,B):\n",
    "    C=[[0]*len(B[0]) for _ in range(len(A))]\n",
    "    for i in range(len(A)):\n",
    "        for j in range(len(B[0])):\n",
    "            for k in range(len(A[0])):\n",
    "                C[i][j]+=A[i][k]*B[k][j]\n",
    "    return C"
   ],
   "id": "d27863a94e0e721",
   "outputs": [],
   "execution_count": 3
  },
  {
   "metadata": {
    "ExecuteTime": {
     "end_time": "2024-12-29T13:25:44.415683Z",
     "start_time": "2024-12-29T13:25:44.411172Z"
    }
   },
   "cell_type": "code",
   "source": "matrix_multiplication",
   "id": "e37306bd8e188592",
   "outputs": [
    {
     "data": {
      "text/plain": [
       "<latexify.ipython_wrappers.LatexifiedAlgorithm at 0x112508990>"
      ],
      "text/latex": "$ \\begin{array}{l} \\mathbf{function} \\ \\mathrm{matrix\\_multiplication}(A, B) \\\\ \\hspace{1em} C \\gets \\mathopen{}\\left[ \\mathopen{}\\left[ 0 \\mathclose{}\\right] \\mathrm{len} \\mathopen{}\\left( B_{0} \\mathclose{}\\right) \\mid \\mathrm{\\_} \\in \\mathrm{range} \\mathopen{}\\left( \\mathrm{len} \\mathopen{}\\left( A \\mathclose{}\\right) \\mathclose{}\\right) \\mathclose{}\\right] \\\\ \\hspace{1em} \\mathbf{for} \\ i \\in \\mathrm{range} \\mathopen{}\\left( \\mathrm{len} \\mathopen{}\\left( A \\mathclose{}\\right) \\mathclose{}\\right) \\ \\mathbf{do} \\\\ \\hspace{2em} \\mathbf{for} \\ j \\in \\mathrm{range} \\mathopen{}\\left( \\mathrm{len} \\mathopen{}\\left( B_{0} \\mathclose{}\\right) \\mathclose{}\\right) \\ \\mathbf{do} \\\\ \\hspace{3em} \\mathbf{for} \\ k \\in \\mathrm{range} \\mathopen{}\\left( \\mathrm{len} \\mathopen{}\\left( A_{0} \\mathclose{}\\right) \\mathclose{}\\right) \\ \\mathbf{do} \\\\ \\hspace{4em} C_{i, j} \\gets C_{i, j} + A_{i, k} B_{k, j} \\\\ \\hspace{3em} \\mathbf{end \\ for} \\\\ \\hspace{2em} \\mathbf{end \\ for} \\\\ \\hspace{1em} \\mathbf{end \\ for} \\\\ \\hspace{1em} \\mathbf{return} \\ C \\\\ \\mathbf{end \\ function} \\end{array} $"
     },
     "execution_count": 4,
     "metadata": {},
     "output_type": "execute_result"
    }
   ],
   "execution_count": 4
  },
  {
   "metadata": {},
   "cell_type": "markdown",
   "source": [
    "# Sparce matrices multiplication\n",
    "The most importnat think is to create dictionaries with non zero elements.. Key in this map would be position of the elemnt in the matrix.\n"
   ],
   "id": "a7cf0c174ef50b65"
  },
  {
   "metadata": {
    "ExecuteTime": {
     "end_time": "2024-12-27T10:48:34.957649Z",
     "start_time": "2024-12-27T10:48:34.954961Z"
    }
   },
   "cell_type": "code",
   "source": "mat_a=Matrix([[0, 2, 0], [0, 0, 0], [0, 1, 0]])",
   "id": "52410e2ca44f491e",
   "outputs": [],
   "execution_count": 25
  },
  {
   "metadata": {
    "ExecuteTime": {
     "end_time": "2024-12-27T10:48:37.186513Z",
     "start_time": "2024-12-27T10:48:37.182806Z"
    }
   },
   "cell_type": "code",
   "source": "mat_a",
   "id": "aa86a0cdb3517288",
   "outputs": [
    {
     "data": {
      "text/plain": [
       "Matrix([\n",
       "[0, 2, 0],\n",
       "[0, 0, 0],\n",
       "[0, 1, 0]])"
      ],
      "text/latex": "$\\displaystyle \\left[\\begin{matrix}0 & 2 & 0\\\\0 & 0 & 0\\\\0 & 1 & 0\\end{matrix}\\right]$"
     },
     "execution_count": 26,
     "metadata": {},
     "output_type": "execute_result"
    }
   ],
   "execution_count": 26
  },
  {
   "metadata": {},
   "cell_type": "markdown",
   "source": "",
   "id": "4a640fb703975fdd"
  },
  {
   "metadata": {
    "ExecuteTime": {
     "end_time": "2024-12-27T10:51:32.014669Z",
     "start_time": "2024-12-27T10:51:32.011122Z"
    }
   },
   "cell_type": "code",
   "source": [
    "def get_non_zero_elements_dict(a_matrix: List[List[int]]) -> dict:\n",
    "    \"\"\"\n",
    "    Description\n",
    "    -----------\n",
    "    This function takes a matrix as input and returns a dictionary that contains only non-zero elements.\n",
    "\n",
    "    Parameters\n",
    "    ----------\n",
    "    a_matrix\n",
    "\n",
    "    Returns\n",
    "    -------\n",
    "    Dictionary that contains only non-zero elements, from matrix.\n",
    "\n",
    "    \"\"\"\n",
    "\n",
    "    non_zero_cells_dict = dict()\n",
    "    for i in range(len(a_matrix)):\n",
    "        for j in range(len(a_matrix[0])):\n",
    "            if a_matrix[i][j] != 0:\n",
    "                non_zero_cells_dict[(i, j)] = a_matrix[i][j]\n",
    "    return non_zero_cells_dict"
   ],
   "id": "2c3ddf6c241c9986",
   "outputs": [],
   "execution_count": 29
  },
  {
   "metadata": {
    "ExecuteTime": {
     "end_time": "2024-12-27T10:51:58.312241Z",
     "start_time": "2024-12-27T10:51:58.309358Z"
    }
   },
   "cell_type": "code",
   "source": "get_non_zero_elements_dict(a_matrix=[[0, 2, 0], [0, 0, 0], [0, 1, 0]])",
   "id": "267b221794e406a5",
   "outputs": [
    {
     "data": {
      "text/plain": [
       "{(0, 1): 2, (2, 1): 1}"
      ]
     },
     "execution_count": 30,
     "metadata": {},
     "output_type": "execute_result"
    }
   ],
   "execution_count": 30
  },
  {
   "metadata": {},
   "cell_type": "code",
   "outputs": [],
   "execution_count": null,
   "source": "",
   "id": "1589472163f0b3d"
  }
 ],
 "metadata": {
  "kernelspec": {
   "display_name": "Python 3",
   "language": "python",
   "name": "python3"
  },
  "language_info": {
   "codemirror_mode": {
    "name": "ipython",
    "version": 2
   },
   "file_extension": ".py",
   "mimetype": "text/x-python",
   "name": "python",
   "nbconvert_exporter": "python",
   "pygments_lexer": "ipython2",
   "version": "2.7.6"
  }
 },
 "nbformat": 4,
 "nbformat_minor": 5
}
