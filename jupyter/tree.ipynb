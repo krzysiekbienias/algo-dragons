{
 "cells": [
  {
   "cell_type": "code",
   "execution_count": 43,
   "id": "015cc60c-d743-4793-9d99-cc6f011da47e",
   "metadata": {},
   "outputs": [],
   "source": [
    "from graphviz import Digraph"
   ]
  },
  {
   "cell_type": "code",
   "execution_count": 50,
   "id": "bcde23ea-94c2-45ea-b1d7-9ff6a223d7cc",
   "metadata": {},
   "outputs": [],
   "source": [
    "class BST:\n",
    "    \"\"\"\n",
    "       A class representing a node in a Binary Search Tree (BST).\n",
    "\n",
    "       Each node contains a value and pointers to its left and right children.\n",
    "    \"\"\"\n",
    "    def __init__(self, value:int) -> None:\n",
    "        self.value=value\n",
    "        self.left=None\n",
    "        self.right=None\n",
    "\n",
    "    # iterative approach\n",
    "    def insert(self, value:int):\n",
    "        \"\"\"\n",
    "       Check if a given value exists in the Binary Search Tree.\n",
    "\n",
    "       Parameters:\n",
    "           value (int): The value to search for.\n",
    "\n",
    "       Returns:\n",
    "           bool: True if the value exists in the tree, False otherwise.\n",
    "        \"\"\"\n",
    "        current_node=self # start from root\n",
    "        while True:\n",
    "            if value < current_node.value:\n",
    "                if current_node.left is None:\n",
    "                    current_node.left = BST(value)\n",
    "                    break\n",
    "                else:\n",
    "                    current_node = current_node.left # move to the left child\n",
    "            else:\n",
    "                if current_node.right is None:\n",
    "                    current_node.right = BST(value)\n",
    "                    break\n",
    "                else:\n",
    "                    current_node = current_node.right # move to the right child\n",
    "        return self\n",
    "\n",
    "    # iterative approach\n",
    "    def contains(self, value:int) -> bool:\n",
    "        current_node=self\n",
    "        while current_node.value is not None:\n",
    "            if value==current_node.value:\n",
    "                return True\n",
    "            if value<current_node.value:\n",
    "                current_node = current_node.left # move to the left\n",
    "            else:\n",
    "                current_node = current_node.right\n",
    "        return False\n",
    "\n",
    "    def inorder(self, tree,array=None):\n",
    "        if array is None:\n",
    "            array=[]\n",
    "        if tree is not None:\n",
    "            self.inorder(tree.left,array) # Visit left subtree\n",
    "            array.append(tree.value)\n",
    "            self.inorder(tree.right,array)\n",
    "        return array\n",
    "\n",
    "    def preorder(self, tree,array=None):\n",
    "        if array is None:\n",
    "            array=[]\n",
    "        if tree is not None:\n",
    "            array.append(tree.value)\n",
    "            self.preorder(tree.left,array)\n",
    "            self.preorder(tree.right,array)\n",
    "        return array\n",
    "\n",
    "    def postorder(self, tree,array=None):\n",
    "        if array is None:\n",
    "            array=[]\n",
    "        if tree is not None:\n",
    "            self.postorder(tree.left,array)\n",
    "            self.postorder(tree.right,array)\n",
    "            array.append(tree.value)\n",
    "        return array\n",
    "\n",
    "    def visualize(self, dot=None):\n",
    "        \"\"\"Visualize the BST using Graphviz and display directly in Jupyter Notebook.\"\"\"\n",
    "        dot = Digraph()\n",
    "\n",
    "        # Stack-based DFS traversal to avoid recursion depth issues\n",
    "        stack = [self]\n",
    "        while stack:\n",
    "            node = stack.pop()\n",
    "\n",
    "            # Create a node in the graph\n",
    "            dot.node(str(node.value), str(node.value))\n",
    "\n",
    "            # Add left child\n",
    "            if node.left:\n",
    "                dot.edge(str(node.value), str(node.left.value), label=\"L\", tailport=\"sw\", headport=\"n\")\n",
    "                stack.append(node.left)\n",
    "\n",
    "            # Add right child\n",
    "            if node.right:\n",
    "                dot.edge(str(node.value), str(node.right.value), label=\"R\", tailport=\"se\", headport=\"n\")\n",
    "                stack.append(node.right)\n",
    "\n",
    "        display(dot)  # Display the visualization directly in Jupyter Notebook\n"
   ]
  },
  {
   "cell_type": "code",
   "execution_count": 51,
   "id": "f043957e-0d4e-473b-8201-4a8009f0e873",
   "metadata": {},
   "outputs": [],
   "source": [
    "if __name__ == '__main__':\n",
    "    # Create a BST and insert values using the new method\n",
    "    root = BST(10)\n",
    "    root.left = BST(5)\n",
    "    root.left.left = BST(2)\n",
    "    root.left.left.left = BST(1)\n",
    "    root.left.right = BST(7)\n",
    "    root.right = BST(15)\n",
    "    root.right.left = BST(13)\n",
    "    root.right.left.right = BST(14)\n",
    "    root.right.right = BST(22)\n",
    "    root.insert(20)\n",
    "    \n",
    "    "
   ]
  },
  {
   "cell_type": "code",
   "execution_count": 52,
   "id": "59b5249e-6bfb-46bf-8487-211a449e18e9",
   "metadata": {},
   "outputs": [
    {
     "data": {
      "image/svg+xml": [
       "<?xml version=\"1.0\" encoding=\"UTF-8\" standalone=\"no\"?>\n",
       "<!DOCTYPE svg PUBLIC \"-//W3C//DTD SVG 1.1//EN\"\n",
       " \"http://www.w3.org/Graphics/SVG/1.1/DTD/svg11.dtd\">\n",
       "<!-- Generated by graphviz version 12.2.1 (20241206.2353)\n",
       " -->\n",
       "<!-- Pages: 1 -->\n",
       "<svg width=\"300pt\" height=\"310pt\"\n",
       " viewBox=\"0.00 0.00 300.00 309.50\" xmlns=\"http://www.w3.org/2000/svg\" xmlns:xlink=\"http://www.w3.org/1999/xlink\">\n",
       "<g id=\"graph0\" class=\"graph\" transform=\"scale(1 1) rotate(0) translate(4 305.5)\">\n",
       "<polygon fill=\"white\" stroke=\"none\" points=\"-4,4 -4,-305.5 296,-305.5 296,4 -4,4\"/>\n",
       "<!-- 10 -->\n",
       "<g id=\"node1\" class=\"node\">\n",
       "<title>10</title>\n",
       "<ellipse fill=\"none\" stroke=\"black\" cx=\"158\" cy=\"-283.5\" rx=\"27\" ry=\"18\"/>\n",
       "<text text-anchor=\"middle\" x=\"158\" y=\"-278.45\" font-family=\"Times,serif\" font-size=\"14.00\">10</text>\n",
       "</g>\n",
       "<!-- 5 -->\n",
       "<g id=\"node2\" class=\"node\">\n",
       "<title>5</title>\n",
       "<ellipse fill=\"none\" stroke=\"black\" cx=\"99\" cy=\"-195\" rx=\"27\" ry=\"18\"/>\n",
       "<text text-anchor=\"middle\" x=\"99\" y=\"-189.95\" font-family=\"Times,serif\" font-size=\"14.00\">5</text>\n",
       "</g>\n",
       "<!-- 10&#45;&gt;5 -->\n",
       "<g id=\"edge1\" class=\"edge\">\n",
       "<title>10:sw&#45;&gt;5:n</title>\n",
       "<path fill=\"none\" stroke=\"black\" d=\"M142.98,-267.48C123.99,-248.49 105.01,-244.88 100.18,-224.22\"/>\n",
       "<polygon fill=\"black\" stroke=\"black\" points=\"103.68,-224.09 99.16,-214.51 96.72,-224.82 103.68,-224.09\"/>\n",
       "<text text-anchor=\"middle\" x=\"121.02\" y=\"-234.2\" font-family=\"Times,serif\" font-size=\"14.00\">L</text>\n",
       "</g>\n",
       "<!-- 15 -->\n",
       "<g id=\"node3\" class=\"node\">\n",
       "<title>15</title>\n",
       "<ellipse fill=\"none\" stroke=\"black\" cx=\"201\" cy=\"-195\" rx=\"27\" ry=\"18\"/>\n",
       "<text text-anchor=\"middle\" x=\"201\" y=\"-189.95\" font-family=\"Times,serif\" font-size=\"14.00\">15</text>\n",
       "</g>\n",
       "<!-- 10&#45;&gt;15 -->\n",
       "<g id=\"edge2\" class=\"edge\">\n",
       "<title>10:se&#45;&gt;15:n</title>\n",
       "<path fill=\"none\" stroke=\"black\" d=\"M173.02,-267.48C189.26,-251.24 198.01,-243 200.35,-224.47\"/>\n",
       "<polygon fill=\"black\" stroke=\"black\" points=\"203.85,-224.69 200.91,-214.51 196.86,-224.3 203.85,-224.69\"/>\n",
       "<text text-anchor=\"middle\" x=\"203.41\" y=\"-234.2\" font-family=\"Times,serif\" font-size=\"14.00\">R</text>\n",
       "</g>\n",
       "<!-- 2 -->\n",
       "<g id=\"node8\" class=\"node\">\n",
       "<title>2</title>\n",
       "<ellipse fill=\"none\" stroke=\"black\" cx=\"42\" cy=\"-106.5\" rx=\"27\" ry=\"18\"/>\n",
       "<text text-anchor=\"middle\" x=\"42\" y=\"-101.45\" font-family=\"Times,serif\" font-size=\"14.00\">2</text>\n",
       "</g>\n",
       "<!-- 5&#45;&gt;2 -->\n",
       "<g id=\"edge7\" class=\"edge\">\n",
       "<title>5:sw&#45;&gt;2:n</title>\n",
       "<path fill=\"none\" stroke=\"black\" d=\"M83.98,-178.98C65.41,-160.41 47.75,-156.1 43.16,-135.85\"/>\n",
       "<polygon fill=\"black\" stroke=\"black\" points=\"46.65,-135.6 42.15,-126.01 39.68,-136.31 46.65,-135.6\"/>\n",
       "<text text-anchor=\"middle\" x=\"62.95\" y=\"-145.7\" font-family=\"Times,serif\" font-size=\"14.00\">L</text>\n",
       "</g>\n",
       "<!-- 7 -->\n",
       "<g id=\"node9\" class=\"node\">\n",
       "<title>7</title>\n",
       "<ellipse fill=\"none\" stroke=\"black\" cx=\"114\" cy=\"-106.5\" rx=\"27\" ry=\"18\"/>\n",
       "<text text-anchor=\"middle\" x=\"114\" y=\"-101.45\" font-family=\"Times,serif\" font-size=\"14.00\">7</text>\n",
       "</g>\n",
       "<!-- 5&#45;&gt;7 -->\n",
       "<g id=\"edge8\" class=\"edge\">\n",
       "<title>5:se&#45;&gt;7:n</title>\n",
       "<path fill=\"none\" stroke=\"black\" d=\"M114.02,-178.98C128.33,-164.67 118.7,-153.14 115.16,-135.59\"/>\n",
       "<polygon fill=\"black\" stroke=\"black\" points=\"118.68,-135.59 114.16,-126.01 111.71,-136.31 118.68,-135.59\"/>\n",
       "<text text-anchor=\"middle\" x=\"125.77\" y=\"-145.7\" font-family=\"Times,serif\" font-size=\"14.00\">R</text>\n",
       "</g>\n",
       "<!-- 13 -->\n",
       "<g id=\"node4\" class=\"node\">\n",
       "<title>13</title>\n",
       "<ellipse fill=\"none\" stroke=\"black\" cx=\"186\" cy=\"-106.5\" rx=\"27\" ry=\"18\"/>\n",
       "<text text-anchor=\"middle\" x=\"186\" y=\"-101.45\" font-family=\"Times,serif\" font-size=\"14.00\">13</text>\n",
       "</g>\n",
       "<!-- 15&#45;&gt;13 -->\n",
       "<g id=\"edge3\" class=\"edge\">\n",
       "<title>15:sw&#45;&gt;13:n</title>\n",
       "<path fill=\"none\" stroke=\"black\" d=\"M185.98,-178.98C171.67,-164.67 181.3,-153.14 184.84,-135.59\"/>\n",
       "<polygon fill=\"black\" stroke=\"black\" points=\"188.29,-136.31 185.84,-126.01 181.32,-135.59 188.29,-136.31\"/>\n",
       "<text text-anchor=\"middle\" x=\"187.22\" y=\"-145.7\" font-family=\"Times,serif\" font-size=\"14.00\">L</text>\n",
       "</g>\n",
       "<!-- 22 -->\n",
       "<g id=\"node5\" class=\"node\">\n",
       "<title>22</title>\n",
       "<ellipse fill=\"none\" stroke=\"black\" cx=\"265\" cy=\"-106.5\" rx=\"27\" ry=\"18\"/>\n",
       "<text text-anchor=\"middle\" x=\"265\" y=\"-101.45\" font-family=\"Times,serif\" font-size=\"14.00\">22</text>\n",
       "</g>\n",
       "<!-- 15&#45;&gt;22 -->\n",
       "<g id=\"edge4\" class=\"edge\">\n",
       "<title>15:se&#45;&gt;22:n</title>\n",
       "<path fill=\"none\" stroke=\"black\" d=\"M216.02,-178.98C235.98,-159.02 258.16,-157.19 263.69,-135.83\"/>\n",
       "<polygon fill=\"black\" stroke=\"black\" points=\"267.16,-136.34 264.83,-126 260.2,-135.54 267.16,-136.34\"/>\n",
       "<text text-anchor=\"middle\" x=\"265.41\" y=\"-145.7\" font-family=\"Times,serif\" font-size=\"14.00\">R</text>\n",
       "</g>\n",
       "<!-- 14 -->\n",
       "<g id=\"node7\" class=\"node\">\n",
       "<title>14</title>\n",
       "<ellipse fill=\"none\" stroke=\"black\" cx=\"193\" cy=\"-18\" rx=\"27\" ry=\"18\"/>\n",
       "<text text-anchor=\"middle\" x=\"193\" y=\"-12.95\" font-family=\"Times,serif\" font-size=\"14.00\">14</text>\n",
       "</g>\n",
       "<!-- 13&#45;&gt;14 -->\n",
       "<g id=\"edge6\" class=\"edge\">\n",
       "<title>13:se&#45;&gt;14:n</title>\n",
       "<path fill=\"none\" stroke=\"black\" d=\"M201.02,-90.48C215.48,-76.02 200.16,-64.77 194.74,-47.17\"/>\n",
       "<polygon fill=\"black\" stroke=\"black\" points=\"198.24,-46.84 193.23,-37.5 191.32,-47.92 198.24,-46.84\"/>\n",
       "<text text-anchor=\"middle\" x=\"209.8\" y=\"-57.2\" font-family=\"Times,serif\" font-size=\"14.00\">R</text>\n",
       "</g>\n",
       "<!-- 20 -->\n",
       "<g id=\"node6\" class=\"node\">\n",
       "<title>20</title>\n",
       "<ellipse fill=\"none\" stroke=\"black\" cx=\"265\" cy=\"-18\" rx=\"27\" ry=\"18\"/>\n",
       "<text text-anchor=\"middle\" x=\"265\" y=\"-12.95\" font-family=\"Times,serif\" font-size=\"14.00\">20</text>\n",
       "</g>\n",
       "<!-- 22&#45;&gt;20 -->\n",
       "<g id=\"edge5\" class=\"edge\">\n",
       "<title>22:sw&#45;&gt;20:n</title>\n",
       "<path fill=\"none\" stroke=\"black\" d=\"M249.98,-90.48C235,-75.5 255.99,-64.89 262.92,-46.86\"/>\n",
       "<polygon fill=\"black\" stroke=\"black\" points=\"266.27,-47.97 264.71,-37.49 259.39,-46.65 266.27,-47.97\"/>\n",
       "<text text-anchor=\"middle\" x=\"263.24\" y=\"-57.2\" font-family=\"Times,serif\" font-size=\"14.00\">L</text>\n",
       "</g>\n",
       "<!-- 1 -->\n",
       "<g id=\"node10\" class=\"node\">\n",
       "<title>1</title>\n",
       "<ellipse fill=\"none\" stroke=\"black\" cx=\"27\" cy=\"-18\" rx=\"27\" ry=\"18\"/>\n",
       "<text text-anchor=\"middle\" x=\"27\" y=\"-12.95\" font-family=\"Times,serif\" font-size=\"14.00\">1</text>\n",
       "</g>\n",
       "<!-- 2&#45;&gt;1 -->\n",
       "<g id=\"edge9\" class=\"edge\">\n",
       "<title>2:sw&#45;&gt;1:n</title>\n",
       "<path fill=\"none\" stroke=\"black\" d=\"M26.98,-90.48C12.67,-76.17 22.3,-64.64 25.84,-47.09\"/>\n",
       "<polygon fill=\"black\" stroke=\"black\" points=\"29.29,-47.81 26.84,-37.51 22.32,-47.09 29.29,-47.81\"/>\n",
       "<text text-anchor=\"middle\" x=\"28.22\" y=\"-57.2\" font-family=\"Times,serif\" font-size=\"14.00\">L</text>\n",
       "</g>\n",
       "</g>\n",
       "</svg>\n"
      ],
      "text/plain": [
       "<graphviz.graphs.Digraph at 0x105054550>"
      ]
     },
     "metadata": {},
     "output_type": "display_data"
    }
   ],
   "source": [
    "root.visualize()"
   ]
  },
  {
   "cell_type": "code",
   "execution_count": 53,
   "id": "604fe1f4-15bd-4d32-8a83-889fd99802a8",
   "metadata": {},
   "outputs": [
    {
     "data": {
      "text/plain": [
       "[10, 5, 2, 1, 7, 15, 13, 14, 22, 20]"
      ]
     },
     "execution_count": 53,
     "metadata": {},
     "output_type": "execute_result"
    }
   ],
   "source": [
    "root.preorder(tree=root)"
   ]
  },
  {
   "cell_type": "code",
   "execution_count": 41,
   "id": "2dbcde81-f031-4796-af6a-ad4ebd856bc0",
   "metadata": {},
   "outputs": [
    {
     "data": {
      "text/plain": [
       "[1, 2, 5, 7, 10, 13, 14, 15, 20, 22]"
      ]
     },
     "execution_count": 41,
     "metadata": {},
     "output_type": "execute_result"
    }
   ],
   "source": [
    "root.inorder(tree=root)"
   ]
  },
  {
   "cell_type": "code",
   "execution_count": 42,
   "id": "be08ff65-ca28-4a09-b490-e2d1c222cbbf",
   "metadata": {},
   "outputs": [
    {
     "data": {
      "text/plain": [
       "[1, 2, 7, 5, 14, 13, 20, 22, 15, 10]"
      ]
     },
     "execution_count": 42,
     "metadata": {},
     "output_type": "execute_result"
    }
   ],
   "source": [
    "root.postorder(tree=root)"
   ]
  },
  {
   "cell_type": "code",
   "execution_count": 56,
   "id": "9d07761d-077e-44c6-8c61-2b66756f7fcd",
   "metadata": {},
   "outputs": [
    {
     "ename": "AttributeError",
     "evalue": "'NoneType' object has no attribute 'value'",
     "output_type": "error",
     "traceback": [
      "\u001b[0;31m---------------------------------------------------------------------------\u001b[0m",
      "\u001b[0;31mAttributeError\u001b[0m                            Traceback (most recent call last)",
      "Cell \u001b[0;32mIn[56], line 2\u001b[0m\n\u001b[1;32m      1\u001b[0m root\u001b[38;5;241m.\u001b[39mcontains(\u001b[38;5;241m20\u001b[39m)\n\u001b[0;32m----> 2\u001b[0m \u001b[43mroot\u001b[49m\u001b[38;5;241;43m.\u001b[39;49m\u001b[43mcontains\u001b[49m\u001b[43m(\u001b[49m\u001b[38;5;241;43m100\u001b[39;49m\u001b[43m)\u001b[49m\n",
      "Cell \u001b[0;32mIn[50], line 42\u001b[0m, in \u001b[0;36mBST.contains\u001b[0;34m(self, value)\u001b[0m\n\u001b[1;32m     40\u001b[0m \u001b[38;5;28;01mdef\u001b[39;00m \u001b[38;5;21mcontains\u001b[39m(\u001b[38;5;28mself\u001b[39m, value:\u001b[38;5;28mint\u001b[39m) \u001b[38;5;241m-\u001b[39m\u001b[38;5;241m>\u001b[39m \u001b[38;5;28mbool\u001b[39m:\n\u001b[1;32m     41\u001b[0m     current_node\u001b[38;5;241m=\u001b[39m\u001b[38;5;28mself\u001b[39m\n\u001b[0;32m---> 42\u001b[0m     \u001b[38;5;28;01mwhile\u001b[39;00m \u001b[43mcurrent_node\u001b[49m\u001b[38;5;241;43m.\u001b[39;49m\u001b[43mvalue\u001b[49m \u001b[38;5;129;01mis\u001b[39;00m \u001b[38;5;129;01mnot\u001b[39;00m \u001b[38;5;28;01mNone\u001b[39;00m:\n\u001b[1;32m     43\u001b[0m         \u001b[38;5;28;01mif\u001b[39;00m value\u001b[38;5;241m==\u001b[39mcurrent_node\u001b[38;5;241m.\u001b[39mvalue:\n\u001b[1;32m     44\u001b[0m             \u001b[38;5;28;01mreturn\u001b[39;00m \u001b[38;5;28;01mTrue\u001b[39;00m\n",
      "\u001b[0;31mAttributeError\u001b[0m: 'NoneType' object has no attribute 'value'"
     ]
    }
   ],
   "source": [
    "root.contains(20)\n",
    "root.contains(100)"
   ]
  },
  {
   "cell_type": "code",
   "execution_count": null,
   "id": "f6d7e64e-23d2-4244-b7ae-808cf0317144",
   "metadata": {},
   "outputs": [],
   "source": []
  }
 ],
 "metadata": {
  "kernelspec": {
   "display_name": "Python 3 (ipykernel)",
   "language": "python",
   "name": "python3"
  },
  "language_info": {
   "codemirror_mode": {
    "name": "ipython",
    "version": 3
   },
   "file_extension": ".py",
   "mimetype": "text/x-python",
   "name": "python",
   "nbconvert_exporter": "python",
   "pygments_lexer": "ipython3",
   "version": "3.11.7"
  }
 },
 "nbformat": 4,
 "nbformat_minor": 5
}
