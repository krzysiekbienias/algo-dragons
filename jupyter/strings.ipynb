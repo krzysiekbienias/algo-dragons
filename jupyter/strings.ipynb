{
 "cells": [
  {
   "cell_type": "markdown",
   "id": "b08b2906-a111-4fd9-bf73-75037c2cc683",
   "metadata": {},
   "source": [
    "# Is palindrome (AlgoEkspert)"
   ]
  },
  {
   "cell_type": "code",
   "execution_count": 2,
   "id": "f4b62cd5-e1ed-4e22-a109-b756ed270de3",
   "metadata": {},
   "outputs": [],
   "source": [
    "def is_palindrome(string):\n",
    "    \"\"\"\n",
    "    Check if a string is a palindrome.\n",
    "\n",
    "    A palindrome is a string that reads the same forward and backward.\n",
    "\n",
    "    Parameters\n",
    "    ----------\n",
    "    string : str\n",
    "        The string to be checked for palindrome properties.\n",
    "\n",
    "    Returns\n",
    "    -------\n",
    "    bool\n",
    "        True if the string is a palindrome, False otherwise.\n",
    "\n",
    "    Examples\n",
    "    --------\n",
    "    >>> is_palindrome(\"racecar\")\n",
    "    True\n",
    "    >>> is_palindrome(\"hello\")\n",
    "    False\n",
    "    >>> is_palindrome(\"A man a plan a canal Panama\")\n",
    "    False\n",
    "    \"\"\"\n",
    "    l_p=0\n",
    "    r_p=len(string)-1\n",
    "    while l_p<r_p:\n",
    "        if string[l_p]==string[r_p]:\n",
    "            l_p+=1\n",
    "            r_p-=1\n",
    "        else:\n",
    "            return False\n",
    "    return True"
   ]
  },
  {
   "cell_type": "code",
   "execution_count": 5,
   "id": "ed703d16-98f0-4bea-985d-48a3890cc5c8",
   "metadata": {},
   "outputs": [
    {
     "data": {
      "text/plain": [
       "False"
      ]
     },
     "execution_count": 5,
     "metadata": {},
     "output_type": "execute_result"
    }
   ],
   "source": [
    "is_palindrome(\"racecar\")\n"
   ]
  },
  {
   "cell_type": "code",
   "execution_count": 6,
   "id": "97ca529e-fc7c-4ddc-b5dd-1855e61e2c69",
   "metadata": {},
   "outputs": [
    {
     "data": {
      "text/plain": [
       "False"
      ]
     },
     "execution_count": 6,
     "metadata": {},
     "output_type": "execute_result"
    }
   ],
   "source": [
    "is_palindrome(\"hello\")"
   ]
  },
  {
   "cell_type": "markdown",
   "id": "d009059d-35b6-4e07-95e4-4cadd637ed07",
   "metadata": {},
   "source": [
    "# Cesar encrypted (AlgoExpert)\n",
    "The line `key = key % 26` is used to ensure that the shift value (key) **wraps around** properly within the range of the alphabet. "
   ]
  },
  {
   "cell_type": "code",
   "execution_count": 8,
   "id": "d8c5e0c5-c6d5-48b0-8a83-2d43671204d2",
   "metadata": {},
   "outputs": [],
   "source": [
    "def caesar_cipher_encryptor(string, key):\n",
    "    \"\"\"\n",
    "    Encrypt a string using the Caesar cipher.\n",
    "\n",
    "    The Caesar cipher shifts each letter in the string by a specified number of positions in the alphabet. \n",
    "    The shift wraps around the alphabet if the end is reached.\n",
    "\n",
    "    Parameters\n",
    "    ----------\n",
    "    string : str\n",
    "        The string to be encrypted. Only lowercase alphabetical characters are processed.\n",
    "    key : int\n",
    "        The number of positions to shift each character. If the key is greater than 26, it is reduced modulo 26.\n",
    "\n",
    "    Returns\n",
    "    -------\n",
    "    str\n",
    "        The encrypted string after applying the Caesar cipher.\n",
    "\n",
    "    Examples\n",
    "    --------\n",
    "    >>> caesar_cipher_encryptor(\"abc\", 2)\n",
    "    \"cde\"\n",
    "    >>> caesar_cipher_encryptor(\"xyz\", 3)\n",
    "    \"abc\"\n",
    "    >>> caesar_cipher_encryptor(\"hello\", 5)\n",
    "    \"mjqqt\"\n",
    "    \"\"\"\n",
    "    shifted_str=[]\n",
    "    key=key%26 # in case kays number make a loop, \n",
    "    for ch in string:\n",
    "        if ord(ch)+key<=122:\n",
    "            shifted_ch=ord(ch)+key\n",
    "            shifted_str.append(chr(shifted_ch))\n",
    "        else:\n",
    "            shifted_ch=(ord(ch)+key)%122\n",
    "            shifted_str.append(chr(96+shifted_ch))\n",
    "    return ''.join(shifted_str)"
   ]
  },
  {
   "cell_type": "code",
   "execution_count": 9,
   "id": "138f1c7f-2261-4687-9d68-97250ea9a384",
   "metadata": {},
   "outputs": [
    {
     "data": {
      "text/plain": [
       "'zab'"
      ]
     },
     "execution_count": 9,
     "metadata": {},
     "output_type": "execute_result"
    }
   ],
   "source": [
    "caesar_cipher_encryptor(\"xyz\",2)"
   ]
  },
  {
   "cell_type": "markdown",
   "id": "36e9097d-ed6c-43d1-8258-a4910ee06566",
   "metadata": {},
   "source": [
    "# Common characters."
   ]
  },
  {
   "cell_type": "code",
   "execution_count": 10,
   "id": "9490c2c4-f962-4634-a9f6-7a86b56d45cf",
   "metadata": {},
   "outputs": [],
   "source": [
    "def common_characters(strings):\n",
    "    \"\"\"\n",
    "    Find common characters in a list of strings.\n",
    "\n",
    "    This function takes a list of strings and returns a list of characters that\n",
    "    are present in all the strings. Each character in the result appears only \n",
    "    once.\n",
    "\n",
    "    Parameters\n",
    "    ----------\n",
    "    strings : list of str\n",
    "        A list of strings in which to find common characters.\n",
    "\n",
    "    Returns\n",
    "    -------\n",
    "    list of str\n",
    "        A list of characters that are common to all input strings.\n",
    "\n",
    "    Examples\n",
    "    --------\n",
    "    >>> common_characters([\"bella\", \"label\", \"roller\"])\n",
    "    ['l']\n",
    "    >>> common_characters([\"cool\", \"lock\", \"cook\"])\n",
    "    ['o', 'c']\n",
    "    >>> common_characters([\"abc\", \"def\", \"ghi\"])\n",
    "    []\n",
    "    \"\"\"\n",
    "    results=[]\n",
    "    character_counts={}\n",
    "    for string in strings:\n",
    "        string_set=set(string)\n",
    "        for element in string_set:\n",
    "            if element in character_counts:\n",
    "                character_counts[element]+=1\n",
    "            else:\n",
    "                character_counts[element]=1\n",
    "    for ch in character_counts:\n",
    "        if character_counts[ch]==len(strings):\n",
    "            results.append(ch)      \n",
    "    return results"
   ]
  },
  {
   "cell_type": "markdown",
   "id": "f38f4c8a-3ec3-4139-92c6-3846cdf8e01a",
   "metadata": {},
   "source": [
    "# Group Anagrams (AlgoExpert)\n",
    "An anagram is a word or phrase formed by rearranging the letters of another. The letters must be used exactly once, and the resulting word or phrase must contain the same number of letters as the original. \n",
    "For example:\n",
    "* \"listen\" is an anagram of \"silent.\"\n",
    "* \"triangle\" is an anagram of \"integral.\"\n",
    "* \"evil\" is an anagram of \"vile.\"\n"
   ]
  },
  {
   "cell_type": "code",
   "execution_count": null,
   "id": "e398385f-5155-463d-99a6-3e14a00fa297",
   "metadata": {},
   "outputs": [],
   "source": [
    "def group_anagrams(words):\n",
    "    \"\"\"\n",
    "    Group words that are anagrams of each other.\n",
    "\n",
    "    This function takes a list of words and groups them into lists of anagrams.\n",
    "    Anagrams are words that contain the same characters in a different order.\n",
    "\n",
    "    Parameters\n",
    "    ----------\n",
    "    words : list of str\n",
    "        A list of words to be grouped by their anagram relationships.\n",
    "\n",
    "    Returns\n",
    "    -------\n",
    "    list of list of str\n",
    "        A list where each sublist contains words that are anagrams of each other.\n",
    "\n",
    "    Examples\n",
    "    --------\n",
    "    >>> group_anagrams([\"eat\", \"tea\", \"tan\", \"ate\", \"nat\", \"bat\"])\n",
    "    [['eat', 'tea', 'ate'], ['tan', 'nat'], ['bat']]\n",
    "    >>> group_anagrams([\"listen\", \"silent\", \"enlist\"])\n",
    "    [['listen', 'silent', 'enlist']]\n",
    "    >>> group_anagrams([\"abc\", \"def\", \"ghi\"])\n",
    "    [['abc'], ['def'], ['ghi']]\n",
    "    \"\"\"\n",
    "    anagrams = dict()\n",
    "    for word in words:\n",
    "        sorted_word = \"\".join(sorted(word))\n",
    "        if sorted_word in anagrams:\n",
    "            anagrams[sorted_word].append(word)\n",
    "        else:\n",
    "            anagrams[sorted_word] = [word]\n",
    "    return list(anagrams.values())"
   ]
  },
  {
   "cell_type": "markdown",
   "id": "1ee4ae24-278a-4486-9edb-f2dd4433c76a",
   "metadata": {},
   "source": [
    "# Useful snipets."
   ]
  },
  {
   "cell_type": "code",
   "execution_count": 1,
   "id": "initial_id",
   "metadata": {
    "ExecuteTime": {
     "end_time": "2024-12-27T16:38:31.584232Z",
     "start_time": "2024-12-27T16:38:31.578863Z"
    },
    "collapsed": true,
    "jupyter": {
     "outputs_hidden": true
    }
   },
   "outputs": [
    {
     "data": {
      "text/plain": [
       "'O'"
      ]
     },
     "execution_count": 1,
     "metadata": {},
     "output_type": "execute_result"
    }
   ],
   "source": [
    "s1=\"Okruszek\"\n",
    "s1[0]"
   ]
  },
  {
   "cell_type": "code",
   "execution_count": 2,
   "id": "6d3ff9427342b72e",
   "metadata": {
    "ExecuteTime": {
     "end_time": "2024-12-27T16:56:57.506680Z",
     "start_time": "2024-12-27T16:56:57.500242Z"
    }
   },
   "outputs": [
    {
     "name": "stdout",
     "output_type": "stream",
     "text": [
      "O\n",
      "k\n",
      "r\n",
      "u\n",
      "s\n",
      "z\n",
      "e\n",
      "k\n"
     ]
    }
   ],
   "source": [
    "for ch in s1:\n",
    "    print(ch)"
   ]
  },
  {
   "cell_type": "code",
   "execution_count": 6,
   "id": "31bb9cc329d926c5",
   "metadata": {
    "ExecuteTime": {
     "end_time": "2024-12-27T17:22:02.163098Z",
     "start_time": "2024-12-27T17:22:02.160638Z"
    }
   },
   "outputs": [
    {
     "data": {
      "text/plain": [
       "{'O', 'e', 'k', 'r', 's', 'u', 'z'}"
      ]
     },
     "execution_count": 6,
     "metadata": {},
     "output_type": "execute_result"
    }
   ],
   "source": [
    "set(s1)"
   ]
  },
  {
   "cell_type": "code",
   "execution_count": 1,
   "id": "1b0f54a7a6ff8102",
   "metadata": {
    "ExecuteTime": {
     "end_time": "2024-12-28T08:42:21.880759Z",
     "start_time": "2024-12-28T08:42:21.876614Z"
    }
   },
   "outputs": [],
   "source": [
    "input = [\"desserts\", \"stressed\", \"hello\"]"
   ]
  },
  {
   "cell_type": "code",
   "execution_count": 2,
   "id": "143e0a7855d9aea9",
   "metadata": {
    "ExecuteTime": {
     "end_time": "2024-12-28T08:43:10.325884Z",
     "start_time": "2024-12-28T08:43:10.321913Z"
    }
   },
   "outputs": [
    {
     "data": {
      "text/plain": [
       "{'desserts', 'hello', 'stressed'}"
      ]
     },
     "execution_count": 2,
     "metadata": {},
     "output_type": "execute_result"
    }
   ],
   "source": [
    "set(input)"
   ]
  },
  {
   "cell_type": "code",
   "execution_count": 4,
   "id": "be05d91a1090dd8f",
   "metadata": {
    "ExecuteTime": {
     "end_time": "2024-12-28T08:45:27.077327Z",
     "start_time": "2024-12-28T08:45:27.074179Z"
    }
   },
   "outputs": [
    {
     "data": {
      "text/plain": [
       "[{'d', 'e', 'r', 's', 't'}, {'d', 'e', 'r', 's', 't'}, {'e', 'h', 'l', 'o'}]"
      ]
     },
     "execution_count": 4,
     "metadata": {},
     "output_type": "execute_result"
    }
   ],
   "source": [
    "[set(x) for x in input]"
   ]
  },
  {
   "cell_type": "code",
   "execution_count": null,
   "id": "36357c7988cc323",
   "metadata": {},
   "outputs": [],
   "source": []
  }
 ],
 "metadata": {
  "kernelspec": {
   "display_name": "Python 3 (ipykernel)",
   "language": "python",
   "name": "python3"
  },
  "language_info": {
   "codemirror_mode": {
    "name": "ipython",
    "version": 3
   },
   "file_extension": ".py",
   "mimetype": "text/x-python",
   "name": "python",
   "nbconvert_exporter": "python",
   "pygments_lexer": "ipython3",
   "version": "3.11.0"
  }
 },
 "nbformat": 4,
 "nbformat_minor": 5
}
