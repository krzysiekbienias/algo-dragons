{
 "cells": [
  {
   "cell_type": "code",
   "id": "initial_id",
   "metadata": {
    "collapsed": true,
    "ExecuteTime": {
     "end_time": "2024-12-27T16:38:31.584232Z",
     "start_time": "2024-12-27T16:38:31.578863Z"
    }
   },
   "source": [
    "s1=\"Okruszek\"\n",
    "s1[0]"
   ],
   "outputs": [
    {
     "data": {
      "text/plain": [
       "'O'"
      ]
     },
     "execution_count": 1,
     "metadata": {},
     "output_type": "execute_result"
    }
   ],
   "execution_count": 1
  },
  {
   "metadata": {
    "ExecuteTime": {
     "end_time": "2024-12-27T16:56:57.506680Z",
     "start_time": "2024-12-27T16:56:57.500242Z"
    }
   },
   "cell_type": "code",
   "source": [
    "for ch in s1:\n",
    "    print(ch)"
   ],
   "id": "6d3ff9427342b72e",
   "outputs": [
    {
     "name": "stdout",
     "output_type": "stream",
     "text": [
      "O\n",
      "k\n",
      "r\n",
      "u\n",
      "s\n",
      "z\n",
      "e\n",
      "k\n"
     ]
    }
   ],
   "execution_count": 2
  },
  {
   "metadata": {
    "ExecuteTime": {
     "end_time": "2024-12-27T17:22:02.163098Z",
     "start_time": "2024-12-27T17:22:02.160638Z"
    }
   },
   "cell_type": "code",
   "source": "set(s1)",
   "id": "31bb9cc329d926c5",
   "outputs": [
    {
     "data": {
      "text/plain": [
       "{'O', 'e', 'k', 'r', 's', 'u', 'z'}"
      ]
     },
     "execution_count": 6,
     "metadata": {},
     "output_type": "execute_result"
    }
   ],
   "execution_count": 6
  },
  {
   "metadata": {
    "ExecuteTime": {
     "end_time": "2024-12-28T08:42:21.880759Z",
     "start_time": "2024-12-28T08:42:21.876614Z"
    }
   },
   "cell_type": "code",
   "source": "input = [\"desserts\", \"stressed\", \"hello\"]",
   "id": "1b0f54a7a6ff8102",
   "outputs": [],
   "execution_count": 1
  },
  {
   "metadata": {
    "ExecuteTime": {
     "end_time": "2024-12-28T08:43:10.325884Z",
     "start_time": "2024-12-28T08:43:10.321913Z"
    }
   },
   "cell_type": "code",
   "source": "set(input)",
   "id": "143e0a7855d9aea9",
   "outputs": [
    {
     "data": {
      "text/plain": [
       "{'desserts', 'hello', 'stressed'}"
      ]
     },
     "execution_count": 2,
     "metadata": {},
     "output_type": "execute_result"
    }
   ],
   "execution_count": 2
  },
  {
   "metadata": {
    "ExecuteTime": {
     "end_time": "2024-12-28T08:45:27.077327Z",
     "start_time": "2024-12-28T08:45:27.074179Z"
    }
   },
   "cell_type": "code",
   "source": "[set(x) for x in input]",
   "id": "be05d91a1090dd8f",
   "outputs": [
    {
     "data": {
      "text/plain": [
       "[{'d', 'e', 'r', 's', 't'}, {'d', 'e', 'r', 's', 't'}, {'e', 'h', 'l', 'o'}]"
      ]
     },
     "execution_count": 4,
     "metadata": {},
     "output_type": "execute_result"
    }
   ],
   "execution_count": 4
  },
  {
   "metadata": {},
   "cell_type": "code",
   "outputs": [],
   "execution_count": null,
   "source": "",
   "id": "36357c7988cc323"
  }
 ],
 "metadata": {
  "kernelspec": {
   "display_name": "Python 3",
   "language": "python",
   "name": "python3"
  },
  "language_info": {
   "codemirror_mode": {
    "name": "ipython",
    "version": 2
   },
   "file_extension": ".py",
   "mimetype": "text/x-python",
   "name": "python",
   "nbconvert_exporter": "python",
   "pygments_lexer": "ipython2",
   "version": "2.7.6"
  }
 },
 "nbformat": 4,
 "nbformat_minor": 5
}
